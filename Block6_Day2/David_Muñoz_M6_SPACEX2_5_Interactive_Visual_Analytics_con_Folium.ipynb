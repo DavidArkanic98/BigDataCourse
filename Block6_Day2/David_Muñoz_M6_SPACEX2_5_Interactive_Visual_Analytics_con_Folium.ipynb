{
  "cells": [
    {
      "cell_type": "markdown",
      "metadata": {
        "id": "u4iGxxGKQQ_5"
      },
      "source": [
        "# Etapa 5: **Análisis de las ubicaciones de los sitios de lanzamiento con Folium**\n"
      ]
    },
    {
      "cell_type": "code",
      "source": [
        "from google.colab import drive\n",
        "drive.mount('/content/drive')"
      ],
      "metadata": {
        "colab": {
          "base_uri": "https://localhost:8080/"
        },
        "id": "n3gMrIM_L6oi",
        "outputId": "1313aa8b-58a3-41b9-cf0c-ed04f1acf512"
      },
      "execution_count": 1,
      "outputs": [
        {
          "output_type": "stream",
          "name": "stdout",
          "text": [
            "Drive already mounted at /content/drive; to attempt to forcibly remount, call drive.mount(\"/content/drive\", force_remount=True).\n"
          ]
        }
      ]
    },
    {
      "cell_type": "markdown",
      "metadata": {
        "id": "Kq1zsSpVQQ_6"
      },
      "source": [
        "La tasa de éxito del lanzamiento puede depender de muchos factores, como la masa de la carga útil, el tipo de órbita, etc. También puede depender de la ubicación y las proximidades de un lugar de lanzamiento, es decir, de la posición inicial de las trayectorias de los cohetes. Encontrar una ubicación óptima para la construcción de una base de lanzamiento implica ciertamente muchos factores y es de esperar que podamos descubrir algunos de ellos analizando las ubicaciones de las bases de lanzamiento existentes."
      ]
    },
    {
      "cell_type": "markdown",
      "metadata": {
        "id": "fjDijuSvQQ_6"
      },
      "source": [
        "En los anteriores laboratorios de análisis de datos exploratorios, has visualizado el conjunto de datos de lanzamiento de SpaceX utilizando `matplotlib` y `seaborn` y has descubierto algunas correlaciones preliminares entre el lugar de lanzamiento y las tasas de éxito. En este laboratorio, realizarás un análisis visual más interactivo utilizando `Folium`.\n"
      ]
    },
    {
      "cell_type": "markdown",
      "metadata": {
        "id": "FAeqfNLPQQ_7"
      },
      "source": [
        "## Objetivos\n"
      ]
    },
    {
      "cell_type": "markdown",
      "metadata": {
        "id": "hP5yfDImQQ_7"
      },
      "source": [
        "Este laboratorio contiene las siguientes tareas:\n",
        "\n",
        "* **Tarea 1:** Marcar todos los sitios de lanzamiento en un mapa\n",
        "* **Tarea 2:** Marcar en el mapa los lanzamientos exitosos/fracasados de cada sitio\n",
        "* **Tarea 3:** Calcular las distancias entre un sitio de lanzamiento y sus proximidades\n",
        "\n",
        "Después de completar las tareas anteriores, deberías ser capaz de encontrar algunos patrones geográficos sobre los sitios de lanzamiento.\n"
      ]
    },
    {
      "cell_type": "markdown",
      "metadata": {
        "id": "zVfjqNVRQQ_8"
      },
      "source": [
        "Primero vamos a importar los paquetes de Python necesarios para este laboratorio:\n"
      ]
    },
    {
      "cell_type": "code",
      "execution_count": 2,
      "metadata": {
        "id": "J0z0kBmpQQ_8"
      },
      "outputs": [],
      "source": [
        "import os\n",
        "import pandas as pd\n",
        "try:\n",
        "    import folium\n",
        "except ImportError as e:\n",
        "    !pip install folium wget\n",
        "    import folium"
      ]
    },
    {
      "cell_type": "code",
      "execution_count": 3,
      "metadata": {
        "id": "vDu3IwDmQQ_9"
      },
      "outputs": [],
      "source": [
        "from folium.plugins import MarkerCluster\n",
        "from folium.plugins import MousePosition\n",
        "from folium.features import DivIcon"
      ]
    },
    {
      "cell_type": "markdown",
      "metadata": {
        "id": "-SNPOBkuQQ__"
      },
      "source": [
        "## Tarea 1: Marcar todos los lugares de lanzamiento en un mapa\n"
      ]
    },
    {
      "cell_type": "markdown",
      "metadata": {
        "id": "Ld2TQUNaQQ__"
      },
      "source": [
        "En primer lugar, vamos a intentar añadir la ubicación de cada sitio en un mapa utilizando las coordenadas de latitud y longitud del sitio\n"
      ]
    },
    {
      "cell_type": "markdown",
      "metadata": {
        "id": "EjavuY-7QQ__"
      },
      "source": [
        "El siguiente conjunto de datos con el nombre `spacex_launch_geo.csv` es un conjunto de datos aumentado con la latitud y la longitud añadidas para cada sitio.\n"
      ]
    },
    {
      "cell_type": "code",
      "execution_count": 4,
      "metadata": {
        "colab": {
          "base_uri": "https://localhost:8080/",
          "height": 310
        },
        "id": "ZUzbXYQJQRAA",
        "outputId": "5b02feea-007c-45a7-ea93-6340eb41ebcb"
      },
      "outputs": [
        {
          "output_type": "execute_result",
          "data": {
            "text/plain": [
              "   Flight Number        Date Time (UTC) Booster Version  Launch Site  \\\n",
              "0              1  2010-06-04   18:45:00  F9 v1.0  B0003  CCAFS LC-40   \n",
              "1              2  2010-12-08   15:43:00  F9 v1.0  B0004  CCAFS LC-40   \n",
              "2              3  2012-05-22    7:44:00  F9 v1.0  B0005  CCAFS LC-40   \n",
              "3              4  2012-10-08    0:35:00  F9 v1.0  B0006  CCAFS LC-40   \n",
              "4              5  2013-03-01   15:10:00  F9 v1.0  B0007  CCAFS LC-40   \n",
              "\n",
              "                                             Payload  Payload Mass (kg)  \\\n",
              "0               Dragon Spacecraft Qualification Unit                0.0   \n",
              "1  Dragon demo flight C1, two CubeSats,  barrel o...                0.0   \n",
              "2                             Dragon demo flight C2+              525.0   \n",
              "3                                       SpaceX CRS-1              500.0   \n",
              "4                                       SpaceX CRS-2              677.0   \n",
              "\n",
              "       Orbit         Customer        Landing Outcome  class        Lat  \\\n",
              "0        LEO           SpaceX  Failure   (parachute)      0  28.562302   \n",
              "1  LEO (ISS)  NASA (COTS) NRO  Failure   (parachute)      0  28.562302   \n",
              "2  LEO (ISS)      NASA (COTS)             No attempt      0  28.562302   \n",
              "3  LEO (ISS)       NASA (CRS)             No attempt      0  28.562302   \n",
              "4  LEO (ISS)       NASA (CRS)             No attempt      0  28.562302   \n",
              "\n",
              "        Long  \n",
              "0 -80.577356  \n",
              "1 -80.577356  \n",
              "2 -80.577356  \n",
              "3 -80.577356  \n",
              "4 -80.577356  "
            ],
            "text/html": [
              "\n",
              "  <div id=\"df-67b78f71-cbd4-48d8-9bab-133f1fbdcca3\" class=\"colab-df-container\">\n",
              "    <div>\n",
              "<style scoped>\n",
              "    .dataframe tbody tr th:only-of-type {\n",
              "        vertical-align: middle;\n",
              "    }\n",
              "\n",
              "    .dataframe tbody tr th {\n",
              "        vertical-align: top;\n",
              "    }\n",
              "\n",
              "    .dataframe thead th {\n",
              "        text-align: right;\n",
              "    }\n",
              "</style>\n",
              "<table border=\"1\" class=\"dataframe\">\n",
              "  <thead>\n",
              "    <tr style=\"text-align: right;\">\n",
              "      <th></th>\n",
              "      <th>Flight Number</th>\n",
              "      <th>Date</th>\n",
              "      <th>Time (UTC)</th>\n",
              "      <th>Booster Version</th>\n",
              "      <th>Launch Site</th>\n",
              "      <th>Payload</th>\n",
              "      <th>Payload Mass (kg)</th>\n",
              "      <th>Orbit</th>\n",
              "      <th>Customer</th>\n",
              "      <th>Landing Outcome</th>\n",
              "      <th>class</th>\n",
              "      <th>Lat</th>\n",
              "      <th>Long</th>\n",
              "    </tr>\n",
              "  </thead>\n",
              "  <tbody>\n",
              "    <tr>\n",
              "      <th>0</th>\n",
              "      <td>1</td>\n",
              "      <td>2010-06-04</td>\n",
              "      <td>18:45:00</td>\n",
              "      <td>F9 v1.0  B0003</td>\n",
              "      <td>CCAFS LC-40</td>\n",
              "      <td>Dragon Spacecraft Qualification Unit</td>\n",
              "      <td>0.0</td>\n",
              "      <td>LEO</td>\n",
              "      <td>SpaceX</td>\n",
              "      <td>Failure   (parachute)</td>\n",
              "      <td>0</td>\n",
              "      <td>28.562302</td>\n",
              "      <td>-80.577356</td>\n",
              "    </tr>\n",
              "    <tr>\n",
              "      <th>1</th>\n",
              "      <td>2</td>\n",
              "      <td>2010-12-08</td>\n",
              "      <td>15:43:00</td>\n",
              "      <td>F9 v1.0  B0004</td>\n",
              "      <td>CCAFS LC-40</td>\n",
              "      <td>Dragon demo flight C1, two CubeSats,  barrel o...</td>\n",
              "      <td>0.0</td>\n",
              "      <td>LEO (ISS)</td>\n",
              "      <td>NASA (COTS) NRO</td>\n",
              "      <td>Failure   (parachute)</td>\n",
              "      <td>0</td>\n",
              "      <td>28.562302</td>\n",
              "      <td>-80.577356</td>\n",
              "    </tr>\n",
              "    <tr>\n",
              "      <th>2</th>\n",
              "      <td>3</td>\n",
              "      <td>2012-05-22</td>\n",
              "      <td>7:44:00</td>\n",
              "      <td>F9 v1.0  B0005</td>\n",
              "      <td>CCAFS LC-40</td>\n",
              "      <td>Dragon demo flight C2+</td>\n",
              "      <td>525.0</td>\n",
              "      <td>LEO (ISS)</td>\n",
              "      <td>NASA (COTS)</td>\n",
              "      <td>No attempt</td>\n",
              "      <td>0</td>\n",
              "      <td>28.562302</td>\n",
              "      <td>-80.577356</td>\n",
              "    </tr>\n",
              "    <tr>\n",
              "      <th>3</th>\n",
              "      <td>4</td>\n",
              "      <td>2012-10-08</td>\n",
              "      <td>0:35:00</td>\n",
              "      <td>F9 v1.0  B0006</td>\n",
              "      <td>CCAFS LC-40</td>\n",
              "      <td>SpaceX CRS-1</td>\n",
              "      <td>500.0</td>\n",
              "      <td>LEO (ISS)</td>\n",
              "      <td>NASA (CRS)</td>\n",
              "      <td>No attempt</td>\n",
              "      <td>0</td>\n",
              "      <td>28.562302</td>\n",
              "      <td>-80.577356</td>\n",
              "    </tr>\n",
              "    <tr>\n",
              "      <th>4</th>\n",
              "      <td>5</td>\n",
              "      <td>2013-03-01</td>\n",
              "      <td>15:10:00</td>\n",
              "      <td>F9 v1.0  B0007</td>\n",
              "      <td>CCAFS LC-40</td>\n",
              "      <td>SpaceX CRS-2</td>\n",
              "      <td>677.0</td>\n",
              "      <td>LEO (ISS)</td>\n",
              "      <td>NASA (CRS)</td>\n",
              "      <td>No attempt</td>\n",
              "      <td>0</td>\n",
              "      <td>28.562302</td>\n",
              "      <td>-80.577356</td>\n",
              "    </tr>\n",
              "  </tbody>\n",
              "</table>\n",
              "</div>\n",
              "    <div class=\"colab-df-buttons\">\n",
              "\n",
              "  <div class=\"colab-df-container\">\n",
              "    <button class=\"colab-df-convert\" onclick=\"convertToInteractive('df-67b78f71-cbd4-48d8-9bab-133f1fbdcca3')\"\n",
              "            title=\"Convert this dataframe to an interactive table.\"\n",
              "            style=\"display:none;\">\n",
              "\n",
              "  <svg xmlns=\"http://www.w3.org/2000/svg\" height=\"24px\" viewBox=\"0 -960 960 960\">\n",
              "    <path d=\"M120-120v-720h720v720H120Zm60-500h600v-160H180v160Zm220 220h160v-160H400v160Zm0 220h160v-160H400v160ZM180-400h160v-160H180v160Zm440 0h160v-160H620v160ZM180-180h160v-160H180v160Zm440 0h160v-160H620v160Z\"/>\n",
              "  </svg>\n",
              "    </button>\n",
              "\n",
              "  <style>\n",
              "    .colab-df-container {\n",
              "      display:flex;\n",
              "      gap: 12px;\n",
              "    }\n",
              "\n",
              "    .colab-df-convert {\n",
              "      background-color: #E8F0FE;\n",
              "      border: none;\n",
              "      border-radius: 50%;\n",
              "      cursor: pointer;\n",
              "      display: none;\n",
              "      fill: #1967D2;\n",
              "      height: 32px;\n",
              "      padding: 0 0 0 0;\n",
              "      width: 32px;\n",
              "    }\n",
              "\n",
              "    .colab-df-convert:hover {\n",
              "      background-color: #E2EBFA;\n",
              "      box-shadow: 0px 1px 2px rgba(60, 64, 67, 0.3), 0px 1px 3px 1px rgba(60, 64, 67, 0.15);\n",
              "      fill: #174EA6;\n",
              "    }\n",
              "\n",
              "    .colab-df-buttons div {\n",
              "      margin-bottom: 4px;\n",
              "    }\n",
              "\n",
              "    [theme=dark] .colab-df-convert {\n",
              "      background-color: #3B4455;\n",
              "      fill: #D2E3FC;\n",
              "    }\n",
              "\n",
              "    [theme=dark] .colab-df-convert:hover {\n",
              "      background-color: #434B5C;\n",
              "      box-shadow: 0px 1px 3px 1px rgba(0, 0, 0, 0.15);\n",
              "      filter: drop-shadow(0px 1px 2px rgba(0, 0, 0, 0.3));\n",
              "      fill: #FFFFFF;\n",
              "    }\n",
              "  </style>\n",
              "\n",
              "    <script>\n",
              "      const buttonEl =\n",
              "        document.querySelector('#df-67b78f71-cbd4-48d8-9bab-133f1fbdcca3 button.colab-df-convert');\n",
              "      buttonEl.style.display =\n",
              "        google.colab.kernel.accessAllowed ? 'block' : 'none';\n",
              "\n",
              "      async function convertToInteractive(key) {\n",
              "        const element = document.querySelector('#df-67b78f71-cbd4-48d8-9bab-133f1fbdcca3');\n",
              "        const dataTable =\n",
              "          await google.colab.kernel.invokeFunction('convertToInteractive',\n",
              "                                                    [key], {});\n",
              "        if (!dataTable) return;\n",
              "\n",
              "        const docLinkHtml = 'Like what you see? Visit the ' +\n",
              "          '<a target=\"_blank\" href=https://colab.research.google.com/notebooks/data_table.ipynb>data table notebook</a>'\n",
              "          + ' to learn more about interactive tables.';\n",
              "        element.innerHTML = '';\n",
              "        dataTable['output_type'] = 'display_data';\n",
              "        await google.colab.output.renderOutput(dataTable, element);\n",
              "        const docLink = document.createElement('div');\n",
              "        docLink.innerHTML = docLinkHtml;\n",
              "        element.appendChild(docLink);\n",
              "      }\n",
              "    </script>\n",
              "  </div>\n",
              "\n",
              "\n",
              "<div id=\"df-08dddd68-64c4-4da6-b57a-3f1a3e6fd99c\">\n",
              "  <button class=\"colab-df-quickchart\" onclick=\"quickchart('df-08dddd68-64c4-4da6-b57a-3f1a3e6fd99c')\"\n",
              "            title=\"Suggest charts.\"\n",
              "            style=\"display:none;\">\n",
              "\n",
              "<svg xmlns=\"http://www.w3.org/2000/svg\" height=\"24px\"viewBox=\"0 0 24 24\"\n",
              "     width=\"24px\">\n",
              "    <g>\n",
              "        <path d=\"M19 3H5c-1.1 0-2 .9-2 2v14c0 1.1.9 2 2 2h14c1.1 0 2-.9 2-2V5c0-1.1-.9-2-2-2zM9 17H7v-7h2v7zm4 0h-2V7h2v10zm4 0h-2v-4h2v4z\"/>\n",
              "    </g>\n",
              "</svg>\n",
              "  </button>\n",
              "\n",
              "<style>\n",
              "  .colab-df-quickchart {\n",
              "      --bg-color: #E8F0FE;\n",
              "      --fill-color: #1967D2;\n",
              "      --hover-bg-color: #E2EBFA;\n",
              "      --hover-fill-color: #174EA6;\n",
              "      --disabled-fill-color: #AAA;\n",
              "      --disabled-bg-color: #DDD;\n",
              "  }\n",
              "\n",
              "  [theme=dark] .colab-df-quickchart {\n",
              "      --bg-color: #3B4455;\n",
              "      --fill-color: #D2E3FC;\n",
              "      --hover-bg-color: #434B5C;\n",
              "      --hover-fill-color: #FFFFFF;\n",
              "      --disabled-bg-color: #3B4455;\n",
              "      --disabled-fill-color: #666;\n",
              "  }\n",
              "\n",
              "  .colab-df-quickchart {\n",
              "    background-color: var(--bg-color);\n",
              "    border: none;\n",
              "    border-radius: 50%;\n",
              "    cursor: pointer;\n",
              "    display: none;\n",
              "    fill: var(--fill-color);\n",
              "    height: 32px;\n",
              "    padding: 0;\n",
              "    width: 32px;\n",
              "  }\n",
              "\n",
              "  .colab-df-quickchart:hover {\n",
              "    background-color: var(--hover-bg-color);\n",
              "    box-shadow: 0 1px 2px rgba(60, 64, 67, 0.3), 0 1px 3px 1px rgba(60, 64, 67, 0.15);\n",
              "    fill: var(--button-hover-fill-color);\n",
              "  }\n",
              "\n",
              "  .colab-df-quickchart-complete:disabled,\n",
              "  .colab-df-quickchart-complete:disabled:hover {\n",
              "    background-color: var(--disabled-bg-color);\n",
              "    fill: var(--disabled-fill-color);\n",
              "    box-shadow: none;\n",
              "  }\n",
              "\n",
              "  .colab-df-spinner {\n",
              "    border: 2px solid var(--fill-color);\n",
              "    border-color: transparent;\n",
              "    border-bottom-color: var(--fill-color);\n",
              "    animation:\n",
              "      spin 1s steps(1) infinite;\n",
              "  }\n",
              "\n",
              "  @keyframes spin {\n",
              "    0% {\n",
              "      border-color: transparent;\n",
              "      border-bottom-color: var(--fill-color);\n",
              "      border-left-color: var(--fill-color);\n",
              "    }\n",
              "    20% {\n",
              "      border-color: transparent;\n",
              "      border-left-color: var(--fill-color);\n",
              "      border-top-color: var(--fill-color);\n",
              "    }\n",
              "    30% {\n",
              "      border-color: transparent;\n",
              "      border-left-color: var(--fill-color);\n",
              "      border-top-color: var(--fill-color);\n",
              "      border-right-color: var(--fill-color);\n",
              "    }\n",
              "    40% {\n",
              "      border-color: transparent;\n",
              "      border-right-color: var(--fill-color);\n",
              "      border-top-color: var(--fill-color);\n",
              "    }\n",
              "    60% {\n",
              "      border-color: transparent;\n",
              "      border-right-color: var(--fill-color);\n",
              "    }\n",
              "    80% {\n",
              "      border-color: transparent;\n",
              "      border-right-color: var(--fill-color);\n",
              "      border-bottom-color: var(--fill-color);\n",
              "    }\n",
              "    90% {\n",
              "      border-color: transparent;\n",
              "      border-bottom-color: var(--fill-color);\n",
              "    }\n",
              "  }\n",
              "</style>\n",
              "\n",
              "  <script>\n",
              "    async function quickchart(key) {\n",
              "      const quickchartButtonEl =\n",
              "        document.querySelector('#' + key + ' button');\n",
              "      quickchartButtonEl.disabled = true;  // To prevent multiple clicks.\n",
              "      quickchartButtonEl.classList.add('colab-df-spinner');\n",
              "      try {\n",
              "        const charts = await google.colab.kernel.invokeFunction(\n",
              "            'suggestCharts', [key], {});\n",
              "      } catch (error) {\n",
              "        console.error('Error during call to suggestCharts:', error);\n",
              "      }\n",
              "      quickchartButtonEl.classList.remove('colab-df-spinner');\n",
              "      quickchartButtonEl.classList.add('colab-df-quickchart-complete');\n",
              "    }\n",
              "    (() => {\n",
              "      let quickchartButtonEl =\n",
              "        document.querySelector('#df-08dddd68-64c4-4da6-b57a-3f1a3e6fd99c button');\n",
              "      quickchartButtonEl.style.display =\n",
              "        google.colab.kernel.accessAllowed ? 'block' : 'none';\n",
              "    })();\n",
              "  </script>\n",
              "</div>\n",
              "    </div>\n",
              "  </div>\n"
            ]
          },
          "metadata": {},
          "execution_count": 4
        }
      ],
      "source": [
        "spacex_csv_file = 'spacex_launch_geo.csv'\n",
        "spacex_df=pd.read_csv(spacex_csv_file)\n",
        "spacex_df.head()"
      ]
    },
    {
      "cell_type": "markdown",
      "metadata": {
        "id": "ploBjcdGQRAA"
      },
      "source": [
        "Ahora, puedes echar un vistazo a las coordenadas de cada sitio.\n"
      ]
    },
    {
      "cell_type": "code",
      "source": [
        "# Selecciona las columnas relevantes: `Launch Site`, `Lat(Latitude)`, `Long(Longitude)`, `class`\n",
        "#Inserta tu código aqui:\n",
        "lista_columnas = spacex_df[['Launch Site', 'Lat', 'Long', 'class']]\n",
        "print(lista_columnas)"
      ],
      "metadata": {
        "id": "470ODmeZQB_w",
        "colab": {
          "base_uri": "https://localhost:8080/"
        },
        "outputId": "fc39f1e2-cea9-467d-b6f2-6bf61b0bd383"
      },
      "execution_count": 36,
      "outputs": [
        {
          "output_type": "stream",
          "name": "stdout",
          "text": [
            "     Launch Site        Lat        Long  class\n",
            "0    CCAFS LC-40  28.562302  -80.577356      0\n",
            "1    CCAFS LC-40  28.562302  -80.577356      0\n",
            "2    CCAFS LC-40  28.562302  -80.577356      0\n",
            "3    CCAFS LC-40  28.562302  -80.577356      0\n",
            "4    CCAFS LC-40  28.562302  -80.577356      0\n",
            "5    CCAFS LC-40  28.562302  -80.577356      0\n",
            "6    CCAFS LC-40  28.562302  -80.577356      0\n",
            "7    CCAFS LC-40  28.562302  -80.577356      0\n",
            "8    CCAFS LC-40  28.562302  -80.577356      0\n",
            "9    CCAFS LC-40  28.562302  -80.577356      0\n",
            "10   CCAFS LC-40  28.562302  -80.577356      0\n",
            "11   CCAFS LC-40  28.562302  -80.577356      0\n",
            "12   CCAFS LC-40  28.562302  -80.577356      0\n",
            "13   CCAFS LC-40  28.562302  -80.577356      0\n",
            "14   CCAFS LC-40  28.562302  -80.577356      0\n",
            "15   CCAFS LC-40  28.562302  -80.577356      0\n",
            "16   CCAFS LC-40  28.562302  -80.577356      0\n",
            "17   CCAFS LC-40  28.562302  -80.577356      1\n",
            "18   CCAFS LC-40  28.562302  -80.577356      1\n",
            "19   CCAFS LC-40  28.562302  -80.577356      0\n",
            "20   CCAFS LC-40  28.562302  -80.577356      1\n",
            "21   CCAFS LC-40  28.562302  -80.577356      1\n",
            "22   CCAFS LC-40  28.562302  -80.577356      1\n",
            "23   CCAFS LC-40  28.562302  -80.577356      0\n",
            "24   CCAFS LC-40  28.562302  -80.577356      1\n",
            "25   CCAFS LC-40  28.562302  -80.577356      1\n",
            "26   VAFB SLC-4E  34.632834 -120.610745      0\n",
            "27   VAFB SLC-4E  34.632834 -120.610745      0\n",
            "28   VAFB SLC-4E  34.632834 -120.610745      1\n",
            "29   VAFB SLC-4E  34.632834 -120.610745      1\n",
            "30   VAFB SLC-4E  34.632834 -120.610745      1\n",
            "31   VAFB SLC-4E  34.632834 -120.610745      1\n",
            "32   VAFB SLC-4E  34.632834 -120.610745      0\n",
            "33   VAFB SLC-4E  34.632834 -120.610745      0\n",
            "34   VAFB SLC-4E  34.632834 -120.610745      0\n",
            "35   VAFB SLC-4E  34.632834 -120.610745      0\n",
            "36    KSC LC-39A  28.573255  -80.646895      1\n",
            "37    KSC LC-39A  28.573255  -80.646895      0\n",
            "38    KSC LC-39A  28.573255  -80.646895      1\n",
            "39    KSC LC-39A  28.573255  -80.646895      1\n",
            "40    KSC LC-39A  28.573255  -80.646895      0\n",
            "41    KSC LC-39A  28.573255  -80.646895      1\n",
            "42    KSC LC-39A  28.573255  -80.646895      1\n",
            "43    KSC LC-39A  28.573255  -80.646895      0\n",
            "44    KSC LC-39A  28.573255  -80.646895      1\n",
            "45    KSC LC-39A  28.573255  -80.646895      1\n",
            "46    KSC LC-39A  28.573255  -80.646895      1\n",
            "47    KSC LC-39A  28.573255  -80.646895      1\n",
            "48    KSC LC-39A  28.573255  -80.646895      1\n",
            "49  CCAFS SLC-40  28.563197  -80.576820      1\n",
            "50  CCAFS SLC-40  28.563197  -80.576820      1\n",
            "51  CCAFS SLC-40  28.563197  -80.576820      0\n",
            "52  CCAFS SLC-40  28.563197  -80.576820      0\n",
            "53  CCAFS SLC-40  28.563197  -80.576820      0\n",
            "54  CCAFS SLC-40  28.563197  -80.576820      1\n",
            "55  CCAFS SLC-40  28.563197  -80.576820      0\n"
          ]
        }
      ]
    },
    {
      "cell_type": "code",
      "execution_count": 37,
      "metadata": {
        "id": "3LZBCyvwQRAA",
        "outputId": "26ef258e-a3f5-4d07-f668-5a60f44dcd1c",
        "colab": {
          "base_uri": "https://localhost:8080/",
          "height": 175
        }
      },
      "outputs": [
        {
          "output_type": "execute_result",
          "data": {
            "text/plain": [
              "    Launch Site        Lat        Long  class\n",
              "0   CCAFS LC-40  28.562302  -80.577356      0\n",
              "1  CCAFS SLC-40  28.563197  -80.576820      1\n",
              "2    KSC LC-39A  28.573255  -80.646895      1\n",
              "3   VAFB SLC-4E  34.632834 -120.610745      0"
            ],
            "text/html": [
              "\n",
              "  <div id=\"df-5cfe0fc7-d9d7-44c2-8e6e-47aaa8b22cf4\" class=\"colab-df-container\">\n",
              "    <div>\n",
              "<style scoped>\n",
              "    .dataframe tbody tr th:only-of-type {\n",
              "        vertical-align: middle;\n",
              "    }\n",
              "\n",
              "    .dataframe tbody tr th {\n",
              "        vertical-align: top;\n",
              "    }\n",
              "\n",
              "    .dataframe thead th {\n",
              "        text-align: right;\n",
              "    }\n",
              "</style>\n",
              "<table border=\"1\" class=\"dataframe\">\n",
              "  <thead>\n",
              "    <tr style=\"text-align: right;\">\n",
              "      <th></th>\n",
              "      <th>Launch Site</th>\n",
              "      <th>Lat</th>\n",
              "      <th>Long</th>\n",
              "      <th>class</th>\n",
              "    </tr>\n",
              "  </thead>\n",
              "  <tbody>\n",
              "    <tr>\n",
              "      <th>0</th>\n",
              "      <td>CCAFS LC-40</td>\n",
              "      <td>28.562302</td>\n",
              "      <td>-80.577356</td>\n",
              "      <td>0</td>\n",
              "    </tr>\n",
              "    <tr>\n",
              "      <th>1</th>\n",
              "      <td>CCAFS SLC-40</td>\n",
              "      <td>28.563197</td>\n",
              "      <td>-80.576820</td>\n",
              "      <td>1</td>\n",
              "    </tr>\n",
              "    <tr>\n",
              "      <th>2</th>\n",
              "      <td>KSC LC-39A</td>\n",
              "      <td>28.573255</td>\n",
              "      <td>-80.646895</td>\n",
              "      <td>1</td>\n",
              "    </tr>\n",
              "    <tr>\n",
              "      <th>3</th>\n",
              "      <td>VAFB SLC-4E</td>\n",
              "      <td>34.632834</td>\n",
              "      <td>-120.610745</td>\n",
              "      <td>0</td>\n",
              "    </tr>\n",
              "  </tbody>\n",
              "</table>\n",
              "</div>\n",
              "    <div class=\"colab-df-buttons\">\n",
              "\n",
              "  <div class=\"colab-df-container\">\n",
              "    <button class=\"colab-df-convert\" onclick=\"convertToInteractive('df-5cfe0fc7-d9d7-44c2-8e6e-47aaa8b22cf4')\"\n",
              "            title=\"Convert this dataframe to an interactive table.\"\n",
              "            style=\"display:none;\">\n",
              "\n",
              "  <svg xmlns=\"http://www.w3.org/2000/svg\" height=\"24px\" viewBox=\"0 -960 960 960\">\n",
              "    <path d=\"M120-120v-720h720v720H120Zm60-500h600v-160H180v160Zm220 220h160v-160H400v160Zm0 220h160v-160H400v160ZM180-400h160v-160H180v160Zm440 0h160v-160H620v160ZM180-180h160v-160H180v160Zm440 0h160v-160H620v160Z\"/>\n",
              "  </svg>\n",
              "    </button>\n",
              "\n",
              "  <style>\n",
              "    .colab-df-container {\n",
              "      display:flex;\n",
              "      gap: 12px;\n",
              "    }\n",
              "\n",
              "    .colab-df-convert {\n",
              "      background-color: #E8F0FE;\n",
              "      border: none;\n",
              "      border-radius: 50%;\n",
              "      cursor: pointer;\n",
              "      display: none;\n",
              "      fill: #1967D2;\n",
              "      height: 32px;\n",
              "      padding: 0 0 0 0;\n",
              "      width: 32px;\n",
              "    }\n",
              "\n",
              "    .colab-df-convert:hover {\n",
              "      background-color: #E2EBFA;\n",
              "      box-shadow: 0px 1px 2px rgba(60, 64, 67, 0.3), 0px 1px 3px 1px rgba(60, 64, 67, 0.15);\n",
              "      fill: #174EA6;\n",
              "    }\n",
              "\n",
              "    .colab-df-buttons div {\n",
              "      margin-bottom: 4px;\n",
              "    }\n",
              "\n",
              "    [theme=dark] .colab-df-convert {\n",
              "      background-color: #3B4455;\n",
              "      fill: #D2E3FC;\n",
              "    }\n",
              "\n",
              "    [theme=dark] .colab-df-convert:hover {\n",
              "      background-color: #434B5C;\n",
              "      box-shadow: 0px 1px 3px 1px rgba(0, 0, 0, 0.15);\n",
              "      filter: drop-shadow(0px 1px 2px rgba(0, 0, 0, 0.3));\n",
              "      fill: #FFFFFF;\n",
              "    }\n",
              "  </style>\n",
              "\n",
              "    <script>\n",
              "      const buttonEl =\n",
              "        document.querySelector('#df-5cfe0fc7-d9d7-44c2-8e6e-47aaa8b22cf4 button.colab-df-convert');\n",
              "      buttonEl.style.display =\n",
              "        google.colab.kernel.accessAllowed ? 'block' : 'none';\n",
              "\n",
              "      async function convertToInteractive(key) {\n",
              "        const element = document.querySelector('#df-5cfe0fc7-d9d7-44c2-8e6e-47aaa8b22cf4');\n",
              "        const dataTable =\n",
              "          await google.colab.kernel.invokeFunction('convertToInteractive',\n",
              "                                                    [key], {});\n",
              "        if (!dataTable) return;\n",
              "\n",
              "        const docLinkHtml = 'Like what you see? Visit the ' +\n",
              "          '<a target=\"_blank\" href=https://colab.research.google.com/notebooks/data_table.ipynb>data table notebook</a>'\n",
              "          + ' to learn more about interactive tables.';\n",
              "        element.innerHTML = '';\n",
              "        dataTable['output_type'] = 'display_data';\n",
              "        await google.colab.output.renderOutput(dataTable, element);\n",
              "        const docLink = document.createElement('div');\n",
              "        docLink.innerHTML = docLinkHtml;\n",
              "        element.appendChild(docLink);\n",
              "      }\n",
              "    </script>\n",
              "  </div>\n",
              "\n",
              "\n",
              "<div id=\"df-e7ccb199-74a6-44fe-8c78-47d6a0dfcc5f\">\n",
              "  <button class=\"colab-df-quickchart\" onclick=\"quickchart('df-e7ccb199-74a6-44fe-8c78-47d6a0dfcc5f')\"\n",
              "            title=\"Suggest charts.\"\n",
              "            style=\"display:none;\">\n",
              "\n",
              "<svg xmlns=\"http://www.w3.org/2000/svg\" height=\"24px\"viewBox=\"0 0 24 24\"\n",
              "     width=\"24px\">\n",
              "    <g>\n",
              "        <path d=\"M19 3H5c-1.1 0-2 .9-2 2v14c0 1.1.9 2 2 2h14c1.1 0 2-.9 2-2V5c0-1.1-.9-2-2-2zM9 17H7v-7h2v7zm4 0h-2V7h2v10zm4 0h-2v-4h2v4z\"/>\n",
              "    </g>\n",
              "</svg>\n",
              "  </button>\n",
              "\n",
              "<style>\n",
              "  .colab-df-quickchart {\n",
              "      --bg-color: #E8F0FE;\n",
              "      --fill-color: #1967D2;\n",
              "      --hover-bg-color: #E2EBFA;\n",
              "      --hover-fill-color: #174EA6;\n",
              "      --disabled-fill-color: #AAA;\n",
              "      --disabled-bg-color: #DDD;\n",
              "  }\n",
              "\n",
              "  [theme=dark] .colab-df-quickchart {\n",
              "      --bg-color: #3B4455;\n",
              "      --fill-color: #D2E3FC;\n",
              "      --hover-bg-color: #434B5C;\n",
              "      --hover-fill-color: #FFFFFF;\n",
              "      --disabled-bg-color: #3B4455;\n",
              "      --disabled-fill-color: #666;\n",
              "  }\n",
              "\n",
              "  .colab-df-quickchart {\n",
              "    background-color: var(--bg-color);\n",
              "    border: none;\n",
              "    border-radius: 50%;\n",
              "    cursor: pointer;\n",
              "    display: none;\n",
              "    fill: var(--fill-color);\n",
              "    height: 32px;\n",
              "    padding: 0;\n",
              "    width: 32px;\n",
              "  }\n",
              "\n",
              "  .colab-df-quickchart:hover {\n",
              "    background-color: var(--hover-bg-color);\n",
              "    box-shadow: 0 1px 2px rgba(60, 64, 67, 0.3), 0 1px 3px 1px rgba(60, 64, 67, 0.15);\n",
              "    fill: var(--button-hover-fill-color);\n",
              "  }\n",
              "\n",
              "  .colab-df-quickchart-complete:disabled,\n",
              "  .colab-df-quickchart-complete:disabled:hover {\n",
              "    background-color: var(--disabled-bg-color);\n",
              "    fill: var(--disabled-fill-color);\n",
              "    box-shadow: none;\n",
              "  }\n",
              "\n",
              "  .colab-df-spinner {\n",
              "    border: 2px solid var(--fill-color);\n",
              "    border-color: transparent;\n",
              "    border-bottom-color: var(--fill-color);\n",
              "    animation:\n",
              "      spin 1s steps(1) infinite;\n",
              "  }\n",
              "\n",
              "  @keyframes spin {\n",
              "    0% {\n",
              "      border-color: transparent;\n",
              "      border-bottom-color: var(--fill-color);\n",
              "      border-left-color: var(--fill-color);\n",
              "    }\n",
              "    20% {\n",
              "      border-color: transparent;\n",
              "      border-left-color: var(--fill-color);\n",
              "      border-top-color: var(--fill-color);\n",
              "    }\n",
              "    30% {\n",
              "      border-color: transparent;\n",
              "      border-left-color: var(--fill-color);\n",
              "      border-top-color: var(--fill-color);\n",
              "      border-right-color: var(--fill-color);\n",
              "    }\n",
              "    40% {\n",
              "      border-color: transparent;\n",
              "      border-right-color: var(--fill-color);\n",
              "      border-top-color: var(--fill-color);\n",
              "    }\n",
              "    60% {\n",
              "      border-color: transparent;\n",
              "      border-right-color: var(--fill-color);\n",
              "    }\n",
              "    80% {\n",
              "      border-color: transparent;\n",
              "      border-right-color: var(--fill-color);\n",
              "      border-bottom-color: var(--fill-color);\n",
              "    }\n",
              "    90% {\n",
              "      border-color: transparent;\n",
              "      border-bottom-color: var(--fill-color);\n",
              "    }\n",
              "  }\n",
              "</style>\n",
              "\n",
              "  <script>\n",
              "    async function quickchart(key) {\n",
              "      const quickchartButtonEl =\n",
              "        document.querySelector('#' + key + ' button');\n",
              "      quickchartButtonEl.disabled = true;  // To prevent multiple clicks.\n",
              "      quickchartButtonEl.classList.add('colab-df-spinner');\n",
              "      try {\n",
              "        const charts = await google.colab.kernel.invokeFunction(\n",
              "            'suggestCharts', [key], {});\n",
              "      } catch (error) {\n",
              "        console.error('Error during call to suggestCharts:', error);\n",
              "      }\n",
              "      quickchartButtonEl.classList.remove('colab-df-spinner');\n",
              "      quickchartButtonEl.classList.add('colab-df-quickchart-complete');\n",
              "    }\n",
              "    (() => {\n",
              "      let quickchartButtonEl =\n",
              "        document.querySelector('#df-e7ccb199-74a6-44fe-8c78-47d6a0dfcc5f button');\n",
              "      quickchartButtonEl.style.display =\n",
              "        google.colab.kernel.accessAllowed ? 'block' : 'none';\n",
              "    })();\n",
              "  </script>\n",
              "</div>\n",
              "    </div>\n",
              "  </div>\n"
            ]
          },
          "metadata": {},
          "execution_count": 37
        }
      ],
      "source": [
        "launch_sites_df = spacex_df.groupby(['Launch Site'], as_index=False).first()\n",
        "launch_sites_df = launch_sites_df[['Launch Site', 'Lat', 'Long', 'class']]\n",
        "launch_sites_df"
      ]
    },
    {
      "cell_type": "markdown",
      "metadata": {
        "id": "q0pr2T_SQRAB"
      },
      "source": [
        "Las coordenadas anteriores son simples números que no pueden darle ninguna idea intuitiva sobre dónde están esos lugares de lanzamiento. Si eres muy bueno en geografía, puedes interpretar esos números directamente en tu mente. Si no, tampoco pasa nada. Visualicemos esas ubicaciones fijándolas en un mapa.\n"
      ]
    },
    {
      "cell_type": "markdown",
      "metadata": {
        "id": "_JZu7WpAQRAB"
      },
      "source": [
        "Primero necesitamos crear un objeto `Map` de folium, con una ubicación central inicial para ser el Centro Espacial Johnson de la NASA en Houston, Texas."
      ]
    },
    {
      "cell_type": "code",
      "execution_count": 10,
      "metadata": {
        "id": "ThFChTB8QRAC"
      },
      "outputs": [],
      "source": [
        "nasa_coordinate = [29.559684888503615, -95.0830971930759]\n",
        "site_map = folium.Map(location=nasa_coordinate, zoom_start=10)"
      ]
    },
    {
      "cell_type": "markdown",
      "metadata": {
        "id": "5_CdnqVVQRAC"
      },
      "source": [
        "Podríamos utilizar `folium.Circle` para añadir un área circular resaltada con una etiqueta de texto en una coordenada específica. Por ejemplo,\n"
      ]
    },
    {
      "cell_type": "code",
      "execution_count": 11,
      "metadata": {
        "id": "IcAfjLuyQRAC",
        "outputId": "9e2b0586-fcfd-4421-dcd3-6af4e575678a",
        "colab": {
          "base_uri": "https://localhost:8080/",
          "height": 779
        }
      },
      "outputs": [
        {
          "output_type": "execute_result",
          "data": {
            "text/plain": [
              "<folium.folium.Map at 0x7c837964f9a0>"
            ],
            "text/html": [
              "<div style=\"width:100%;\"><div style=\"position:relative;width:100%;height:0;padding-bottom:60%;\"><span style=\"color:#565656\">Make this Notebook Trusted to load map: File -> Trust Notebook</span><iframe srcdoc=\"&lt;!DOCTYPE html&gt;\n",
              "&lt;html&gt;\n",
              "&lt;head&gt;\n",
              "    \n",
              "    &lt;meta http-equiv=&quot;content-type&quot; content=&quot;text/html; charset=UTF-8&quot; /&gt;\n",
              "    \n",
              "        &lt;script&gt;\n",
              "            L_NO_TOUCH = false;\n",
              "            L_DISABLE_3D = false;\n",
              "        &lt;/script&gt;\n",
              "    \n",
              "    &lt;style&gt;html, body {width: 100%;height: 100%;margin: 0;padding: 0;}&lt;/style&gt;\n",
              "    &lt;style&gt;#map {position:absolute;top:0;bottom:0;right:0;left:0;}&lt;/style&gt;\n",
              "    &lt;script src=&quot;https://cdn.jsdelivr.net/npm/leaflet@1.9.3/dist/leaflet.js&quot;&gt;&lt;/script&gt;\n",
              "    &lt;script src=&quot;https://code.jquery.com/jquery-1.12.4.min.js&quot;&gt;&lt;/script&gt;\n",
              "    &lt;script src=&quot;https://cdn.jsdelivr.net/npm/bootstrap@5.2.2/dist/js/bootstrap.bundle.min.js&quot;&gt;&lt;/script&gt;\n",
              "    &lt;script src=&quot;https://cdnjs.cloudflare.com/ajax/libs/Leaflet.awesome-markers/2.0.2/leaflet.awesome-markers.js&quot;&gt;&lt;/script&gt;\n",
              "    &lt;link rel=&quot;stylesheet&quot; href=&quot;https://cdn.jsdelivr.net/npm/leaflet@1.9.3/dist/leaflet.css&quot;/&gt;\n",
              "    &lt;link rel=&quot;stylesheet&quot; href=&quot;https://cdn.jsdelivr.net/npm/bootstrap@5.2.2/dist/css/bootstrap.min.css&quot;/&gt;\n",
              "    &lt;link rel=&quot;stylesheet&quot; href=&quot;https://netdna.bootstrapcdn.com/bootstrap/3.0.0/css/bootstrap.min.css&quot;/&gt;\n",
              "    &lt;link rel=&quot;stylesheet&quot; href=&quot;https://cdn.jsdelivr.net/npm/@fortawesome/fontawesome-free@6.2.0/css/all.min.css&quot;/&gt;\n",
              "    &lt;link rel=&quot;stylesheet&quot; href=&quot;https://cdnjs.cloudflare.com/ajax/libs/Leaflet.awesome-markers/2.0.2/leaflet.awesome-markers.css&quot;/&gt;\n",
              "    &lt;link rel=&quot;stylesheet&quot; href=&quot;https://cdn.jsdelivr.net/gh/python-visualization/folium/folium/templates/leaflet.awesome.rotate.min.css&quot;/&gt;\n",
              "    \n",
              "            &lt;meta name=&quot;viewport&quot; content=&quot;width=device-width,\n",
              "                initial-scale=1.0, maximum-scale=1.0, user-scalable=no&quot; /&gt;\n",
              "            &lt;style&gt;\n",
              "                #map_e54fb70f0ece106df0e9fce7907f8804 {\n",
              "                    position: relative;\n",
              "                    width: 100.0%;\n",
              "                    height: 100.0%;\n",
              "                    left: 0.0%;\n",
              "                    top: 0.0%;\n",
              "                }\n",
              "                .leaflet-container { font-size: 1rem; }\n",
              "            &lt;/style&gt;\n",
              "        \n",
              "&lt;/head&gt;\n",
              "&lt;body&gt;\n",
              "    \n",
              "    \n",
              "            &lt;div class=&quot;folium-map&quot; id=&quot;map_e54fb70f0ece106df0e9fce7907f8804&quot; &gt;&lt;/div&gt;\n",
              "        \n",
              "&lt;/body&gt;\n",
              "&lt;script&gt;\n",
              "    \n",
              "    \n",
              "            var map_e54fb70f0ece106df0e9fce7907f8804 = L.map(\n",
              "                &quot;map_e54fb70f0ece106df0e9fce7907f8804&quot;,\n",
              "                {\n",
              "                    center: [29.559684888503615, -95.0830971930759],\n",
              "                    crs: L.CRS.EPSG3857,\n",
              "                    zoom: 10,\n",
              "                    zoomControl: true,\n",
              "                    preferCanvas: false,\n",
              "                }\n",
              "            );\n",
              "\n",
              "            \n",
              "\n",
              "        \n",
              "    \n",
              "            var tile_layer_9920d2995ae11409941945270988a45a = L.tileLayer(\n",
              "                &quot;https://{s}.tile.openstreetmap.org/{z}/{x}/{y}.png&quot;,\n",
              "                {&quot;attribution&quot;: &quot;Data by \\u0026copy; \\u003ca target=\\&quot;_blank\\&quot; href=\\&quot;http://openstreetmap.org\\&quot;\\u003eOpenStreetMap\\u003c/a\\u003e, under \\u003ca target=\\&quot;_blank\\&quot; href=\\&quot;http://www.openstreetmap.org/copyright\\&quot;\\u003eODbL\\u003c/a\\u003e.&quot;, &quot;detectRetina&quot;: false, &quot;maxNativeZoom&quot;: 18, &quot;maxZoom&quot;: 18, &quot;minZoom&quot;: 0, &quot;noWrap&quot;: false, &quot;opacity&quot;: 1, &quot;subdomains&quot;: &quot;abc&quot;, &quot;tms&quot;: false}\n",
              "            ).addTo(map_e54fb70f0ece106df0e9fce7907f8804);\n",
              "        \n",
              "    \n",
              "            var circle_3546f44bf9dbf93cbf9d9ed24f1a47af = L.circle(\n",
              "                [29.559684888503615, -95.0830971930759],\n",
              "                {&quot;bubblingMouseEvents&quot;: true, &quot;color&quot;: &quot;#d35400&quot;, &quot;dashArray&quot;: null, &quot;dashOffset&quot;: null, &quot;fill&quot;: true, &quot;fillColor&quot;: &quot;#d35400&quot;, &quot;fillOpacity&quot;: 0.2, &quot;fillRule&quot;: &quot;evenodd&quot;, &quot;lineCap&quot;: &quot;round&quot;, &quot;lineJoin&quot;: &quot;round&quot;, &quot;opacity&quot;: 1.0, &quot;radius&quot;: 1000, &quot;stroke&quot;: true, &quot;weight&quot;: 3}\n",
              "            ).addTo(map_e54fb70f0ece106df0e9fce7907f8804);\n",
              "        \n",
              "    \n",
              "        var popup_5b5481efd741297d3ebd85ab88287f9d = L.popup({&quot;maxWidth&quot;: &quot;100%&quot;});\n",
              "\n",
              "        \n",
              "            \n",
              "                var html_20d2cfbf78aee8c0482cf59159926785 = $(`&lt;div id=&quot;html_20d2cfbf78aee8c0482cf59159926785&quot; style=&quot;width: 100.0%; height: 100.0%;&quot;&gt;NASA Johnson Space Center&lt;/div&gt;`)[0];\n",
              "                popup_5b5481efd741297d3ebd85ab88287f9d.setContent(html_20d2cfbf78aee8c0482cf59159926785);\n",
              "            \n",
              "        \n",
              "\n",
              "        circle_3546f44bf9dbf93cbf9d9ed24f1a47af.bindPopup(popup_5b5481efd741297d3ebd85ab88287f9d)\n",
              "        ;\n",
              "\n",
              "        \n",
              "    \n",
              "    \n",
              "            var marker_ebbd37ff6f15c838b2221ec4e38fa038 = L.marker(\n",
              "                [29.559684888503615, -95.0830971930759],\n",
              "                {}\n",
              "            ).addTo(map_e54fb70f0ece106df0e9fce7907f8804);\n",
              "        \n",
              "    \n",
              "            var div_icon_cdf4ccd507a33a14811c9620f0b6c2f1 = L.divIcon({&quot;className&quot;: &quot;empty&quot;, &quot;html&quot;: &quot;\\u003cdiv style=\\&quot;font-size: 12; color:#d35400;\\&quot;\\u003e\\u003cb\\u003eNASA JSC\\u003c/b\\u003e\\u003c/div\\u003e&quot;, &quot;iconAnchor&quot;: [0, 0], &quot;iconSize&quot;: [20, 20]});\n",
              "            marker_ebbd37ff6f15c838b2221ec4e38fa038.setIcon(div_icon_cdf4ccd507a33a14811c9620f0b6c2f1);\n",
              "        \n",
              "&lt;/script&gt;\n",
              "&lt;/html&gt;\" style=\"position:absolute;width:100%;height:100%;left:0;top:0;border:none !important;\" allowfullscreen webkitallowfullscreen mozallowfullscreen></iframe></div></div>"
            ]
          },
          "metadata": {},
          "execution_count": 11
        }
      ],
      "source": [
        "circle = folium.Circle(nasa_coordinate, radius=1000, color='#d35400', fill=True).add_child(folium.Popup('NASA Johnson Space Center'))\n",
        "\n",
        "marker = folium.map.Marker(\n",
        "    nasa_coordinate,\n",
        "    icon=DivIcon(\n",
        "        icon_size=(20,20),\n",
        "        icon_anchor=(0,0),\n",
        "        html='<div style=\"font-size: 12; color:#d35400;\"><b>%s</b></div>' % 'NASA JSC',\n",
        "        )\n",
        "    )\n",
        "\n",
        "site_map.add_child(circle)\n",
        "site_map.add_child(marker)"
      ]
    },
    {
      "cell_type": "markdown",
      "metadata": {
        "id": "q7JbPMZPQRAD"
      },
      "source": [
        "y deberías encontrar un pequeño círculo amarillo cerca de la ciudad de Houston y puedes ampliarlo para ver un círculo más grande.\n"
      ]
    },
    {
      "cell_type": "markdown",
      "metadata": {
        "id": "2ao2gIf4QRAD"
      },
      "source": [
        "Ahora, agreguemos un círculo para cada sitio de lanzamiento en el marco de datos \"sitios de lanzamiento\".\n"
      ]
    },
    {
      "cell_type": "markdown",
      "metadata": {
        "id": "boQsx8kMQRAD"
      },
      "source": [
        "### Crear y añadir `folium.Circle` y `folium.Marker` para cada sitio de lanzamiento en el mapa del sitio"
      ]
    },
    {
      "cell_type": "markdown",
      "metadata": {
        "id": "I40Nr-m-QRAD"
      },
      "source": [
        "Un ejemplo de folium.Circle:\n"
      ]
    },
    {
      "cell_type": "markdown",
      "source": [
        "` folium.Circle([coordenadas], color='#d35400', radius=50, fill=True).add_child(folium.Popup((site['Launch Site'])))`\n"
      ],
      "metadata": {
        "id": "M_Kdl7V9e_Zo"
      }
    },
    {
      "cell_type": "markdown",
      "metadata": {
        "id": "cr3tPIVRQRAE"
      },
      "source": [
        "Un ejemplo de folium.Marker:\n"
      ]
    },
    {
      "cell_type": "markdown",
      "metadata": {
        "id": "2RVn4RIUQRAE"
      },
      "source": [
        "\n",
        "```\n",
        "folium.Marker(coordinate,\n",
        "icon=DivIcon(icon_size=(20,20),\n",
        "icon_anchor=(0,0),\n",
        "html='<div style=\"font-size: 12; color:#d35400;\"><b>%s</b></div>' % site['Launch Site'], ))\n",
        "```\n"
      ]
    },
    {
      "cell_type": "code",
      "execution_count": 51,
      "metadata": {
        "id": "mgtl4-RXQRAE",
        "outputId": "b6c54b23-d505-400e-a910-58b05f595a18",
        "colab": {
          "base_uri": "https://localhost:8080/",
          "height": 779
        }
      },
      "outputs": [
        {
          "output_type": "execute_result",
          "data": {
            "text/plain": [
              "<folium.folium.Map at 0x7c83796a9270>"
            ],
            "text/html": [
              "<div style=\"width:100%;\"><div style=\"position:relative;width:100%;height:0;padding-bottom:60%;\"><span style=\"color:#565656\">Make this Notebook Trusted to load map: File -> Trust Notebook</span><iframe srcdoc=\"&lt;!DOCTYPE html&gt;\n",
              "&lt;html&gt;\n",
              "&lt;head&gt;\n",
              "    \n",
              "    &lt;meta http-equiv=&quot;content-type&quot; content=&quot;text/html; charset=UTF-8&quot; /&gt;\n",
              "    \n",
              "        &lt;script&gt;\n",
              "            L_NO_TOUCH = false;\n",
              "            L_DISABLE_3D = false;\n",
              "        &lt;/script&gt;\n",
              "    \n",
              "    &lt;style&gt;html, body {width: 100%;height: 100%;margin: 0;padding: 0;}&lt;/style&gt;\n",
              "    &lt;style&gt;#map {position:absolute;top:0;bottom:0;right:0;left:0;}&lt;/style&gt;\n",
              "    &lt;script src=&quot;https://cdn.jsdelivr.net/npm/leaflet@1.9.3/dist/leaflet.js&quot;&gt;&lt;/script&gt;\n",
              "    &lt;script src=&quot;https://code.jquery.com/jquery-1.12.4.min.js&quot;&gt;&lt;/script&gt;\n",
              "    &lt;script src=&quot;https://cdn.jsdelivr.net/npm/bootstrap@5.2.2/dist/js/bootstrap.bundle.min.js&quot;&gt;&lt;/script&gt;\n",
              "    &lt;script src=&quot;https://cdnjs.cloudflare.com/ajax/libs/Leaflet.awesome-markers/2.0.2/leaflet.awesome-markers.js&quot;&gt;&lt;/script&gt;\n",
              "    &lt;link rel=&quot;stylesheet&quot; href=&quot;https://cdn.jsdelivr.net/npm/leaflet@1.9.3/dist/leaflet.css&quot;/&gt;\n",
              "    &lt;link rel=&quot;stylesheet&quot; href=&quot;https://cdn.jsdelivr.net/npm/bootstrap@5.2.2/dist/css/bootstrap.min.css&quot;/&gt;\n",
              "    &lt;link rel=&quot;stylesheet&quot; href=&quot;https://netdna.bootstrapcdn.com/bootstrap/3.0.0/css/bootstrap.min.css&quot;/&gt;\n",
              "    &lt;link rel=&quot;stylesheet&quot; href=&quot;https://cdn.jsdelivr.net/npm/@fortawesome/fontawesome-free@6.2.0/css/all.min.css&quot;/&gt;\n",
              "    &lt;link rel=&quot;stylesheet&quot; href=&quot;https://cdnjs.cloudflare.com/ajax/libs/Leaflet.awesome-markers/2.0.2/leaflet.awesome-markers.css&quot;/&gt;\n",
              "    &lt;link rel=&quot;stylesheet&quot; href=&quot;https://cdn.jsdelivr.net/gh/python-visualization/folium/folium/templates/leaflet.awesome.rotate.min.css&quot;/&gt;\n",
              "    \n",
              "            &lt;meta name=&quot;viewport&quot; content=&quot;width=device-width,\n",
              "                initial-scale=1.0, maximum-scale=1.0, user-scalable=no&quot; /&gt;\n",
              "            &lt;style&gt;\n",
              "                #map_03329b87475c4ff56b21e98d750978df {\n",
              "                    position: relative;\n",
              "                    width: 100.0%;\n",
              "                    height: 100.0%;\n",
              "                    left: 0.0%;\n",
              "                    top: 0.0%;\n",
              "                }\n",
              "                .leaflet-container { font-size: 1rem; }\n",
              "            &lt;/style&gt;\n",
              "        \n",
              "&lt;/head&gt;\n",
              "&lt;body&gt;\n",
              "    \n",
              "    \n",
              "            &lt;div class=&quot;folium-map&quot; id=&quot;map_03329b87475c4ff56b21e98d750978df&quot; &gt;&lt;/div&gt;\n",
              "        \n",
              "&lt;/body&gt;\n",
              "&lt;script&gt;\n",
              "    \n",
              "    \n",
              "            var map_03329b87475c4ff56b21e98d750978df = L.map(\n",
              "                &quot;map_03329b87475c4ff56b21e98d750978df&quot;,\n",
              "                {\n",
              "                    center: [29.559684888503615, -95.0830971930759],\n",
              "                    crs: L.CRS.EPSG3857,\n",
              "                    zoom: 5,\n",
              "                    zoomControl: true,\n",
              "                    preferCanvas: false,\n",
              "                }\n",
              "            );\n",
              "\n",
              "            \n",
              "\n",
              "        \n",
              "    \n",
              "            var tile_layer_261861f54b81dec83f7b26bbda4d8ba7 = L.tileLayer(\n",
              "                &quot;https://{s}.tile.openstreetmap.org/{z}/{x}/{y}.png&quot;,\n",
              "                {&quot;attribution&quot;: &quot;Data by \\u0026copy; \\u003ca target=\\&quot;_blank\\&quot; href=\\&quot;http://openstreetmap.org\\&quot;\\u003eOpenStreetMap\\u003c/a\\u003e, under \\u003ca target=\\&quot;_blank\\&quot; href=\\&quot;http://www.openstreetmap.org/copyright\\&quot;\\u003eODbL\\u003c/a\\u003e.&quot;, &quot;detectRetina&quot;: false, &quot;maxNativeZoom&quot;: 18, &quot;maxZoom&quot;: 18, &quot;minZoom&quot;: 0, &quot;noWrap&quot;: false, &quot;opacity&quot;: 1, &quot;subdomains&quot;: &quot;abc&quot;, &quot;tms&quot;: false}\n",
              "            ).addTo(map_03329b87475c4ff56b21e98d750978df);\n",
              "        \n",
              "    \n",
              "            var circle_1bcf371148e08ee60f8201b438b1d116 = L.circle(\n",
              "                [52.132633, 5.291266],\n",
              "                {&quot;bubblingMouseEvents&quot;: true, &quot;color&quot;: &quot;blue&quot;, &quot;dashArray&quot;: null, &quot;dashOffset&quot;: null, &quot;fill&quot;: true, &quot;fillColor&quot;: &quot;blue&quot;, &quot;fillOpacity&quot;: 0.2, &quot;fillRule&quot;: &quot;evenodd&quot;, &quot;lineCap&quot;: &quot;round&quot;, &quot;lineJoin&quot;: &quot;round&quot;, &quot;opacity&quot;: 1.0, &quot;radius&quot;: 1000, &quot;stroke&quot;: true, &quot;weight&quot;: 3}\n",
              "            ).addTo(map_03329b87475c4ff56b21e98d750978df);\n",
              "        \n",
              "    \n",
              "            var marker_dffa9c8e3a2a027468fdc084bc7ef078 = L.marker(\n",
              "                [52.132633, 5.291266],\n",
              "                {}\n",
              "            ).addTo(map_03329b87475c4ff56b21e98d750978df);\n",
              "        \n",
              "    \n",
              "        var popup_b89ef5c129bbc5f91a07cc28f40962c6 = L.popup({&quot;maxWidth&quot;: &quot;100%&quot;});\n",
              "\n",
              "        \n",
              "            \n",
              "                var html_0f75d0525c194010b54a2b6940c52e44 = $(`&lt;div id=&quot;html_0f75d0525c194010b54a2b6940c52e44&quot; style=&quot;width: 100.0%; height: 100.0%;&quot;&gt;CCAFS LC-40&lt;/div&gt;`)[0];\n",
              "                popup_b89ef5c129bbc5f91a07cc28f40962c6.setContent(html_0f75d0525c194010b54a2b6940c52e44);\n",
              "            \n",
              "        \n",
              "\n",
              "        marker_dffa9c8e3a2a027468fdc084bc7ef078.bindPopup(popup_b89ef5c129bbc5f91a07cc28f40962c6)\n",
              "        ;\n",
              "\n",
              "        \n",
              "    \n",
              "    \n",
              "            var circle_26ed063edca0eb326395b64f3e477db3 = L.circle(\n",
              "                [52.132633, 5.291266],\n",
              "                {&quot;bubblingMouseEvents&quot;: true, &quot;color&quot;: &quot;blue&quot;, &quot;dashArray&quot;: null, &quot;dashOffset&quot;: null, &quot;fill&quot;: true, &quot;fillColor&quot;: &quot;blue&quot;, &quot;fillOpacity&quot;: 0.2, &quot;fillRule&quot;: &quot;evenodd&quot;, &quot;lineCap&quot;: &quot;round&quot;, &quot;lineJoin&quot;: &quot;round&quot;, &quot;opacity&quot;: 1.0, &quot;radius&quot;: 1000, &quot;stroke&quot;: true, &quot;weight&quot;: 3}\n",
              "            ).addTo(map_03329b87475c4ff56b21e98d750978df);\n",
              "        \n",
              "    \n",
              "            var marker_590b1fe69551352c2e873d2ee404f998 = L.marker(\n",
              "                [52.132633, 5.291266],\n",
              "                {}\n",
              "            ).addTo(map_03329b87475c4ff56b21e98d750978df);\n",
              "        \n",
              "    \n",
              "        var popup_634dd44bbe92a276f4e04fc6be9d8f13 = L.popup({&quot;maxWidth&quot;: &quot;100%&quot;});\n",
              "\n",
              "        \n",
              "            \n",
              "                var html_c893974148bac65a758a2f4710e4b47a = $(`&lt;div id=&quot;html_c893974148bac65a758a2f4710e4b47a&quot; style=&quot;width: 100.0%; height: 100.0%;&quot;&gt;CCAFS SLC-40&lt;/div&gt;`)[0];\n",
              "                popup_634dd44bbe92a276f4e04fc6be9d8f13.setContent(html_c893974148bac65a758a2f4710e4b47a);\n",
              "            \n",
              "        \n",
              "\n",
              "        marker_590b1fe69551352c2e873d2ee404f998.bindPopup(popup_634dd44bbe92a276f4e04fc6be9d8f13)\n",
              "        ;\n",
              "\n",
              "        \n",
              "    \n",
              "    \n",
              "            var circle_fe61fcc7ea8d8b5ec7e9918bcc9921a1 = L.circle(\n",
              "                [52.132633, 5.291266],\n",
              "                {&quot;bubblingMouseEvents&quot;: true, &quot;color&quot;: &quot;blue&quot;, &quot;dashArray&quot;: null, &quot;dashOffset&quot;: null, &quot;fill&quot;: true, &quot;fillColor&quot;: &quot;blue&quot;, &quot;fillOpacity&quot;: 0.2, &quot;fillRule&quot;: &quot;evenodd&quot;, &quot;lineCap&quot;: &quot;round&quot;, &quot;lineJoin&quot;: &quot;round&quot;, &quot;opacity&quot;: 1.0, &quot;radius&quot;: 1000, &quot;stroke&quot;: true, &quot;weight&quot;: 3}\n",
              "            ).addTo(map_03329b87475c4ff56b21e98d750978df);\n",
              "        \n",
              "    \n",
              "            var marker_722565c666c3e66b2eef8cab2c53970c = L.marker(\n",
              "                [52.132633, 5.291266],\n",
              "                {}\n",
              "            ).addTo(map_03329b87475c4ff56b21e98d750978df);\n",
              "        \n",
              "    \n",
              "        var popup_ccf63579521da3225e641ae6901bdd43 = L.popup({&quot;maxWidth&quot;: &quot;100%&quot;});\n",
              "\n",
              "        \n",
              "            \n",
              "                var html_30d6872f91dd632dd5b902782f0e7245 = $(`&lt;div id=&quot;html_30d6872f91dd632dd5b902782f0e7245&quot; style=&quot;width: 100.0%; height: 100.0%;&quot;&gt;KSC LC-39A&lt;/div&gt;`)[0];\n",
              "                popup_ccf63579521da3225e641ae6901bdd43.setContent(html_30d6872f91dd632dd5b902782f0e7245);\n",
              "            \n",
              "        \n",
              "\n",
              "        marker_722565c666c3e66b2eef8cab2c53970c.bindPopup(popup_ccf63579521da3225e641ae6901bdd43)\n",
              "        ;\n",
              "\n",
              "        \n",
              "    \n",
              "    \n",
              "            var circle_283ac723a509d3b941d286f3b3171562 = L.circle(\n",
              "                [52.132633, 5.291266],\n",
              "                {&quot;bubblingMouseEvents&quot;: true, &quot;color&quot;: &quot;blue&quot;, &quot;dashArray&quot;: null, &quot;dashOffset&quot;: null, &quot;fill&quot;: true, &quot;fillColor&quot;: &quot;blue&quot;, &quot;fillOpacity&quot;: 0.2, &quot;fillRule&quot;: &quot;evenodd&quot;, &quot;lineCap&quot;: &quot;round&quot;, &quot;lineJoin&quot;: &quot;round&quot;, &quot;opacity&quot;: 1.0, &quot;radius&quot;: 1000, &quot;stroke&quot;: true, &quot;weight&quot;: 3}\n",
              "            ).addTo(map_03329b87475c4ff56b21e98d750978df);\n",
              "        \n",
              "    \n",
              "            var marker_f8b0e0f3420acfccde63e5290c8e4b01 = L.marker(\n",
              "                [52.132633, 5.291266],\n",
              "                {}\n",
              "            ).addTo(map_03329b87475c4ff56b21e98d750978df);\n",
              "        \n",
              "    \n",
              "        var popup_2f105c55bd19a2cffc62773dd97675de = L.popup({&quot;maxWidth&quot;: &quot;100%&quot;});\n",
              "\n",
              "        \n",
              "            \n",
              "                var html_232b7148b1f47a88b2ae11014f686397 = $(`&lt;div id=&quot;html_232b7148b1f47a88b2ae11014f686397&quot; style=&quot;width: 100.0%; height: 100.0%;&quot;&gt;VAFB SLC-4E&lt;/div&gt;`)[0];\n",
              "                popup_2f105c55bd19a2cffc62773dd97675de.setContent(html_232b7148b1f47a88b2ae11014f686397);\n",
              "            \n",
              "        \n",
              "\n",
              "        marker_f8b0e0f3420acfccde63e5290c8e4b01.bindPopup(popup_2f105c55bd19a2cffc62773dd97675de)\n",
              "        ;\n",
              "\n",
              "        \n",
              "    \n",
              "&lt;/script&gt;\n",
              "&lt;/html&gt;\" style=\"position:absolute;width:100%;height:100%;left:0;top:0;border:none !important;\" allowfullscreen webkitallowfullscreen mozallowfullscreen></iframe></div></div>"
            ]
          },
          "metadata": {},
          "execution_count": 51
        }
      ],
      "source": [
        "# Inserta tu código aquí\n",
        "site_map = folium.Map(location=nasa_coordinate, zoom_start=5)\n",
        "\n",
        "for index, site in launch_sites_df.iterrows():\n",
        "    site_lat = site['Lat']\n",
        "    site_lon = site['Long']\n",
        "    circle = folium.Circle(location=[52.132633, 5.291266], radius=1000, color='blue', fill=True)\n",
        "    marker = folium.Marker(location=[52.132633, 5.291266], popup=site['Launch Site'])\n",
        "    site_map.add_child(circle)\n",
        "    site_map.add_child(marker)\n",
        "\n",
        "site_map"
      ]
    },
    {
      "cell_type": "markdown",
      "metadata": {
        "id": "zrYB-sOfQRAE"
      },
      "source": [
        "El mapa generado con los lugares de lanzamiento marcados debería tener un aspecto similar al siguiente:\n"
      ]
    },
    {
      "cell_type": "markdown",
      "metadata": {
        "id": "yapI95suQRAF"
      },
      "source": [
        "<center>\n",
        "    <img src=\"https://cf-courses-data.s3.us.cloud-object-storage.appdomain.cloud/IBM-DS0321EN-SkillsNetwork/labs/module_3/images/launch_site_markers.png\" />\n",
        "</center>\n"
      ]
    },
    {
      "cell_type": "markdown",
      "metadata": {
        "id": "2A_rhGnqQRAF"
      },
      "source": [
        "Ahora, puedes explorar el mapa acercando o alejando las zonas marcadas\n",
        "y tratar de responder a las siguientes preguntas:\n",
        "\n",
        "* ¿Están todas las zonas de lanzamiento cerca de la línea del Ecuador?\n",
        "* ¿Están todos los puntos de lanzamiento muy cerca de la costa?\n",
        "\n",
        "Intenta también explicar tus conclusiones.\n"
      ]
    },
    {
      "cell_type": "markdown",
      "metadata": {
        "id": "LkS9dnjHQRAF"
      },
      "source": [
        "# Tarea 2: Marcar en el mapa los lanzamientos exitosos/fracasados de cada sitio\n"
      ]
    },
    {
      "cell_type": "markdown",
      "metadata": {
        "id": "RPeJBbQbQRAF"
      },
      "source": [
        "A continuación, vamos a intentar mejorar el mapa añadiendo los resultados de los lanzamientos de cada emplazamiento, y ver qué emplazamientos tienen un alto índice de éxito.\n",
        "Recordemos que el marco de datos spacex_df contiene registros detallados de los lanzamientos, y la columna `clase` indica si el lanzamiento fue exitoso o no\n"
      ]
    },
    {
      "cell_type": "code",
      "execution_count": 41,
      "metadata": {
        "id": "Wv7tS5tsQRAF",
        "outputId": "f8843646-ca5b-424b-8bc5-58193e32f4c1",
        "colab": {
          "base_uri": "https://localhost:8080/",
          "height": 363
        }
      },
      "outputs": [
        {
          "output_type": "execute_result",
          "data": {
            "text/plain": [
              "     Launch Site        Lat       Long  class\n",
              "46    KSC LC-39A  28.573255 -80.646895      1\n",
              "47    KSC LC-39A  28.573255 -80.646895      1\n",
              "48    KSC LC-39A  28.573255 -80.646895      1\n",
              "49  CCAFS SLC-40  28.563197 -80.576820      1\n",
              "50  CCAFS SLC-40  28.563197 -80.576820      1\n",
              "51  CCAFS SLC-40  28.563197 -80.576820      0\n",
              "52  CCAFS SLC-40  28.563197 -80.576820      0\n",
              "53  CCAFS SLC-40  28.563197 -80.576820      0\n",
              "54  CCAFS SLC-40  28.563197 -80.576820      1\n",
              "55  CCAFS SLC-40  28.563197 -80.576820      0"
            ],
            "text/html": [
              "\n",
              "  <div id=\"df-fa95eb22-7d4f-436d-84d9-a1a2dccc15e9\" class=\"colab-df-container\">\n",
              "    <div>\n",
              "<style scoped>\n",
              "    .dataframe tbody tr th:only-of-type {\n",
              "        vertical-align: middle;\n",
              "    }\n",
              "\n",
              "    .dataframe tbody tr th {\n",
              "        vertical-align: top;\n",
              "    }\n",
              "\n",
              "    .dataframe thead th {\n",
              "        text-align: right;\n",
              "    }\n",
              "</style>\n",
              "<table border=\"1\" class=\"dataframe\">\n",
              "  <thead>\n",
              "    <tr style=\"text-align: right;\">\n",
              "      <th></th>\n",
              "      <th>Launch Site</th>\n",
              "      <th>Lat</th>\n",
              "      <th>Long</th>\n",
              "      <th>class</th>\n",
              "    </tr>\n",
              "  </thead>\n",
              "  <tbody>\n",
              "    <tr>\n",
              "      <th>46</th>\n",
              "      <td>KSC LC-39A</td>\n",
              "      <td>28.573255</td>\n",
              "      <td>-80.646895</td>\n",
              "      <td>1</td>\n",
              "    </tr>\n",
              "    <tr>\n",
              "      <th>47</th>\n",
              "      <td>KSC LC-39A</td>\n",
              "      <td>28.573255</td>\n",
              "      <td>-80.646895</td>\n",
              "      <td>1</td>\n",
              "    </tr>\n",
              "    <tr>\n",
              "      <th>48</th>\n",
              "      <td>KSC LC-39A</td>\n",
              "      <td>28.573255</td>\n",
              "      <td>-80.646895</td>\n",
              "      <td>1</td>\n",
              "    </tr>\n",
              "    <tr>\n",
              "      <th>49</th>\n",
              "      <td>CCAFS SLC-40</td>\n",
              "      <td>28.563197</td>\n",
              "      <td>-80.576820</td>\n",
              "      <td>1</td>\n",
              "    </tr>\n",
              "    <tr>\n",
              "      <th>50</th>\n",
              "      <td>CCAFS SLC-40</td>\n",
              "      <td>28.563197</td>\n",
              "      <td>-80.576820</td>\n",
              "      <td>1</td>\n",
              "    </tr>\n",
              "    <tr>\n",
              "      <th>51</th>\n",
              "      <td>CCAFS SLC-40</td>\n",
              "      <td>28.563197</td>\n",
              "      <td>-80.576820</td>\n",
              "      <td>0</td>\n",
              "    </tr>\n",
              "    <tr>\n",
              "      <th>52</th>\n",
              "      <td>CCAFS SLC-40</td>\n",
              "      <td>28.563197</td>\n",
              "      <td>-80.576820</td>\n",
              "      <td>0</td>\n",
              "    </tr>\n",
              "    <tr>\n",
              "      <th>53</th>\n",
              "      <td>CCAFS SLC-40</td>\n",
              "      <td>28.563197</td>\n",
              "      <td>-80.576820</td>\n",
              "      <td>0</td>\n",
              "    </tr>\n",
              "    <tr>\n",
              "      <th>54</th>\n",
              "      <td>CCAFS SLC-40</td>\n",
              "      <td>28.563197</td>\n",
              "      <td>-80.576820</td>\n",
              "      <td>1</td>\n",
              "    </tr>\n",
              "    <tr>\n",
              "      <th>55</th>\n",
              "      <td>CCAFS SLC-40</td>\n",
              "      <td>28.563197</td>\n",
              "      <td>-80.576820</td>\n",
              "      <td>0</td>\n",
              "    </tr>\n",
              "  </tbody>\n",
              "</table>\n",
              "</div>\n",
              "    <div class=\"colab-df-buttons\">\n",
              "\n",
              "  <div class=\"colab-df-container\">\n",
              "    <button class=\"colab-df-convert\" onclick=\"convertToInteractive('df-fa95eb22-7d4f-436d-84d9-a1a2dccc15e9')\"\n",
              "            title=\"Convert this dataframe to an interactive table.\"\n",
              "            style=\"display:none;\">\n",
              "\n",
              "  <svg xmlns=\"http://www.w3.org/2000/svg\" height=\"24px\" viewBox=\"0 -960 960 960\">\n",
              "    <path d=\"M120-120v-720h720v720H120Zm60-500h600v-160H180v160Zm220 220h160v-160H400v160Zm0 220h160v-160H400v160ZM180-400h160v-160H180v160Zm440 0h160v-160H620v160ZM180-180h160v-160H180v160Zm440 0h160v-160H620v160Z\"/>\n",
              "  </svg>\n",
              "    </button>\n",
              "\n",
              "  <style>\n",
              "    .colab-df-container {\n",
              "      display:flex;\n",
              "      gap: 12px;\n",
              "    }\n",
              "\n",
              "    .colab-df-convert {\n",
              "      background-color: #E8F0FE;\n",
              "      border: none;\n",
              "      border-radius: 50%;\n",
              "      cursor: pointer;\n",
              "      display: none;\n",
              "      fill: #1967D2;\n",
              "      height: 32px;\n",
              "      padding: 0 0 0 0;\n",
              "      width: 32px;\n",
              "    }\n",
              "\n",
              "    .colab-df-convert:hover {\n",
              "      background-color: #E2EBFA;\n",
              "      box-shadow: 0px 1px 2px rgba(60, 64, 67, 0.3), 0px 1px 3px 1px rgba(60, 64, 67, 0.15);\n",
              "      fill: #174EA6;\n",
              "    }\n",
              "\n",
              "    .colab-df-buttons div {\n",
              "      margin-bottom: 4px;\n",
              "    }\n",
              "\n",
              "    [theme=dark] .colab-df-convert {\n",
              "      background-color: #3B4455;\n",
              "      fill: #D2E3FC;\n",
              "    }\n",
              "\n",
              "    [theme=dark] .colab-df-convert:hover {\n",
              "      background-color: #434B5C;\n",
              "      box-shadow: 0px 1px 3px 1px rgba(0, 0, 0, 0.15);\n",
              "      filter: drop-shadow(0px 1px 2px rgba(0, 0, 0, 0.3));\n",
              "      fill: #FFFFFF;\n",
              "    }\n",
              "  </style>\n",
              "\n",
              "    <script>\n",
              "      const buttonEl =\n",
              "        document.querySelector('#df-fa95eb22-7d4f-436d-84d9-a1a2dccc15e9 button.colab-df-convert');\n",
              "      buttonEl.style.display =\n",
              "        google.colab.kernel.accessAllowed ? 'block' : 'none';\n",
              "\n",
              "      async function convertToInteractive(key) {\n",
              "        const element = document.querySelector('#df-fa95eb22-7d4f-436d-84d9-a1a2dccc15e9');\n",
              "        const dataTable =\n",
              "          await google.colab.kernel.invokeFunction('convertToInteractive',\n",
              "                                                    [key], {});\n",
              "        if (!dataTable) return;\n",
              "\n",
              "        const docLinkHtml = 'Like what you see? Visit the ' +\n",
              "          '<a target=\"_blank\" href=https://colab.research.google.com/notebooks/data_table.ipynb>data table notebook</a>'\n",
              "          + ' to learn more about interactive tables.';\n",
              "        element.innerHTML = '';\n",
              "        dataTable['output_type'] = 'display_data';\n",
              "        await google.colab.output.renderOutput(dataTable, element);\n",
              "        const docLink = document.createElement('div');\n",
              "        docLink.innerHTML = docLinkHtml;\n",
              "        element.appendChild(docLink);\n",
              "      }\n",
              "    </script>\n",
              "  </div>\n",
              "\n",
              "\n",
              "<div id=\"df-87014f2a-3ae5-409d-a367-9b1d22afa63d\">\n",
              "  <button class=\"colab-df-quickchart\" onclick=\"quickchart('df-87014f2a-3ae5-409d-a367-9b1d22afa63d')\"\n",
              "            title=\"Suggest charts.\"\n",
              "            style=\"display:none;\">\n",
              "\n",
              "<svg xmlns=\"http://www.w3.org/2000/svg\" height=\"24px\"viewBox=\"0 0 24 24\"\n",
              "     width=\"24px\">\n",
              "    <g>\n",
              "        <path d=\"M19 3H5c-1.1 0-2 .9-2 2v14c0 1.1.9 2 2 2h14c1.1 0 2-.9 2-2V5c0-1.1-.9-2-2-2zM9 17H7v-7h2v7zm4 0h-2V7h2v10zm4 0h-2v-4h2v4z\"/>\n",
              "    </g>\n",
              "</svg>\n",
              "  </button>\n",
              "\n",
              "<style>\n",
              "  .colab-df-quickchart {\n",
              "      --bg-color: #E8F0FE;\n",
              "      --fill-color: #1967D2;\n",
              "      --hover-bg-color: #E2EBFA;\n",
              "      --hover-fill-color: #174EA6;\n",
              "      --disabled-fill-color: #AAA;\n",
              "      --disabled-bg-color: #DDD;\n",
              "  }\n",
              "\n",
              "  [theme=dark] .colab-df-quickchart {\n",
              "      --bg-color: #3B4455;\n",
              "      --fill-color: #D2E3FC;\n",
              "      --hover-bg-color: #434B5C;\n",
              "      --hover-fill-color: #FFFFFF;\n",
              "      --disabled-bg-color: #3B4455;\n",
              "      --disabled-fill-color: #666;\n",
              "  }\n",
              "\n",
              "  .colab-df-quickchart {\n",
              "    background-color: var(--bg-color);\n",
              "    border: none;\n",
              "    border-radius: 50%;\n",
              "    cursor: pointer;\n",
              "    display: none;\n",
              "    fill: var(--fill-color);\n",
              "    height: 32px;\n",
              "    padding: 0;\n",
              "    width: 32px;\n",
              "  }\n",
              "\n",
              "  .colab-df-quickchart:hover {\n",
              "    background-color: var(--hover-bg-color);\n",
              "    box-shadow: 0 1px 2px rgba(60, 64, 67, 0.3), 0 1px 3px 1px rgba(60, 64, 67, 0.15);\n",
              "    fill: var(--button-hover-fill-color);\n",
              "  }\n",
              "\n",
              "  .colab-df-quickchart-complete:disabled,\n",
              "  .colab-df-quickchart-complete:disabled:hover {\n",
              "    background-color: var(--disabled-bg-color);\n",
              "    fill: var(--disabled-fill-color);\n",
              "    box-shadow: none;\n",
              "  }\n",
              "\n",
              "  .colab-df-spinner {\n",
              "    border: 2px solid var(--fill-color);\n",
              "    border-color: transparent;\n",
              "    border-bottom-color: var(--fill-color);\n",
              "    animation:\n",
              "      spin 1s steps(1) infinite;\n",
              "  }\n",
              "\n",
              "  @keyframes spin {\n",
              "    0% {\n",
              "      border-color: transparent;\n",
              "      border-bottom-color: var(--fill-color);\n",
              "      border-left-color: var(--fill-color);\n",
              "    }\n",
              "    20% {\n",
              "      border-color: transparent;\n",
              "      border-left-color: var(--fill-color);\n",
              "      border-top-color: var(--fill-color);\n",
              "    }\n",
              "    30% {\n",
              "      border-color: transparent;\n",
              "      border-left-color: var(--fill-color);\n",
              "      border-top-color: var(--fill-color);\n",
              "      border-right-color: var(--fill-color);\n",
              "    }\n",
              "    40% {\n",
              "      border-color: transparent;\n",
              "      border-right-color: var(--fill-color);\n",
              "      border-top-color: var(--fill-color);\n",
              "    }\n",
              "    60% {\n",
              "      border-color: transparent;\n",
              "      border-right-color: var(--fill-color);\n",
              "    }\n",
              "    80% {\n",
              "      border-color: transparent;\n",
              "      border-right-color: var(--fill-color);\n",
              "      border-bottom-color: var(--fill-color);\n",
              "    }\n",
              "    90% {\n",
              "      border-color: transparent;\n",
              "      border-bottom-color: var(--fill-color);\n",
              "    }\n",
              "  }\n",
              "</style>\n",
              "\n",
              "  <script>\n",
              "    async function quickchart(key) {\n",
              "      const quickchartButtonEl =\n",
              "        document.querySelector('#' + key + ' button');\n",
              "      quickchartButtonEl.disabled = true;  // To prevent multiple clicks.\n",
              "      quickchartButtonEl.classList.add('colab-df-spinner');\n",
              "      try {\n",
              "        const charts = await google.colab.kernel.invokeFunction(\n",
              "            'suggestCharts', [key], {});\n",
              "      } catch (error) {\n",
              "        console.error('Error during call to suggestCharts:', error);\n",
              "      }\n",
              "      quickchartButtonEl.classList.remove('colab-df-spinner');\n",
              "      quickchartButtonEl.classList.add('colab-df-quickchart-complete');\n",
              "    }\n",
              "    (() => {\n",
              "      let quickchartButtonEl =\n",
              "        document.querySelector('#df-87014f2a-3ae5-409d-a367-9b1d22afa63d button');\n",
              "      quickchartButtonEl.style.display =\n",
              "        google.colab.kernel.accessAllowed ? 'block' : 'none';\n",
              "    })();\n",
              "  </script>\n",
              "</div>\n",
              "    </div>\n",
              "  </div>\n"
            ]
          },
          "metadata": {},
          "execution_count": 41
        }
      ],
      "source": [
        "spacex_df.tail(10)"
      ]
    },
    {
      "cell_type": "markdown",
      "metadata": {
        "id": "YvkfXvLdQRAG"
      },
      "source": [
        "A continuación, vamos a crear marcadores para todos los registros de lanzamiento.\n",
        "Si un lanzamiento fue exitoso `(class=1)`, entonces usamos un marcador verde y si un lanzamiento fue fallido, usamos un marcador rojo `(class=0)`.\n"
      ]
    },
    {
      "cell_type": "markdown",
      "metadata": {
        "id": "kHidNvALQRAG"
      },
      "source": [
        "Tenga en cuenta que un lanzamiento sólo se produce en uno de los cuatro sitios de lanzamiento, lo que significa que muchos registros de lanzamiento tendrán exactamente la misma coordenada. Los grupos de marcadores pueden ser una buena forma de simplificar un mapa que contenga muchos marcadores con la misma coordenada.\n"
      ]
    },
    {
      "cell_type": "markdown",
      "metadata": {
        "id": "4LY0TX5hQRAH"
      },
      "source": [
        "Primero vamos a crear un objeto `MarkerCluster`.\n"
      ]
    },
    {
      "cell_type": "code",
      "execution_count": 42,
      "metadata": {
        "id": "wP9PVUZ7Jfjt",
        "papermill": {
          "duration": 0.904519,
          "end_time": "2020-09-19T06:27:38.357041",
          "exception": false,
          "start_time": "2020-09-19T06:27:37.452522",
          "status": "completed"
        },
        "tags": []
      },
      "outputs": [],
      "source": [
        "marker_cluster = MarkerCluster()\n"
      ]
    },
    {
      "cell_type": "markdown",
      "metadata": {
        "id": "-SyXf05YQRAH"
      },
      "source": [
        "### Crea una nueva columna en el dataframe `spacex_df` llamada `marker_color` para almacenar los colores de los marcadores basados en el valor `class\n"
      ]
    },
    {
      "cell_type": "markdown",
      "source": [
        "Crea una función llamada `assign_marker_color` que devuelva `green` o `red` en función de si `class` (argumento) es 1 o 0. Aplica esta función a la columna `class` dataset mediante el método `df[\"columna\"].apply(funcion)`. Por último, guardala en la columna `marker_color`"
      ],
      "metadata": {
        "id": "NP9DMAAVyutG"
      }
    },
    {
      "cell_type": "code",
      "execution_count": null,
      "metadata": {
        "id": "J0aFt4lrQRAI"
      },
      "outputs": [],
      "source": [
        "# Inserta tu código aquí\n",
        "\n",
        "\n",
        "\n",
        "spacex_df.tail(10)"
      ]
    },
    {
      "cell_type": "markdown",
      "metadata": {
        "id": "IzvNH8hkQRAI"
      },
      "source": [
        "### Para cada resultado de lanzamiento en el marco de datos `spacex_df`, añadir un `folium.Marker` a `marker_cluster`\n"
      ]
    },
    {
      "cell_type": "markdown",
      "source": [
        "\n",
        "```\n",
        "folium.Marker([coordenadas],\n",
        "icon=folium.Icon(color='white',\n",
        "icon_color=record['marker_color']))\n",
        "```\n"
      ],
      "metadata": {
        "id": "YeQOQwQKjr1e"
      }
    },
    {
      "cell_type": "code",
      "execution_count": null,
      "metadata": {
        "id": "ciqpVF7uQRAJ"
      },
      "outputs": [],
      "source": [
        "#Inserta tu código aquí\n",
        "site_map.add_child(marker_cluster)\n",
        "\n",
        "\n",
        "for index, record in spacex_df.iterrows():\n",
        "    marker =\n",
        "    marker_cluster.add_child(marker)\n",
        "site_map"
      ]
    },
    {
      "cell_type": "markdown",
      "metadata": {
        "id": "enx7Ef2AQRAJ"
      },
      "source": [
        "Su mapa actualizado debería parecerse a las siguientes capturas de pantalla:\n"
      ]
    },
    {
      "cell_type": "markdown",
      "metadata": {
        "id": "yhU7okRWQRAJ"
      },
      "source": [
        "<center>\n",
        "    <img src=\"https://cf-courses-data.s3.us.cloud-object-storage.appdomain.cloud/IBM-DS0321EN-SkillsNetwork/labs/module_3/images/launch_site_marker_cluster.png\" />\n",
        "</center>\n"
      ]
    },
    {
      "cell_type": "markdown",
      "metadata": {
        "id": "pbqKyIetQRAJ"
      },
      "source": [
        "<center>\n",
        "    <img src=\"https://cf-courses-data.s3.us.cloud-object-storage.appdomain.cloud/IBM-DS0321EN-SkillsNetwork/labs/module_3/images/launch_site_marker_cluster_zoomed.png\" />\n",
        "</center>\n"
      ]
    },
    {
      "cell_type": "markdown",
      "metadata": {
        "id": "KHboBNYkQRAK"
      },
      "source": [
        "A partir de los marcadores etiquetados con colores en los grupos de marcadores, debería ser capaz de identificar fácilmente qué sitios de lanzamiento tienen tasas de éxito relativamente altas.\n"
      ]
    },
    {
      "cell_type": "markdown",
      "metadata": {
        "id": "whUSrofYQRAK"
      },
      "source": [
        "# TAREA 3: Calcular las distancias entre un lugar de lanzamiento y sus proximidades\n"
      ]
    },
    {
      "cell_type": "markdown",
      "metadata": {
        "id": "mINdUN69QRAK"
      },
      "source": [
        "A continuación, tenemos que explorar y analizar las proximidades de los lugares de lanzamiento.\n"
      ]
    },
    {
      "cell_type": "markdown",
      "metadata": {
        "id": "MqiCsaWqQRAK"
      },
      "source": [
        "Primero vamos a añadir un MousePosition en el mapa para obtener las coordenadas de un ratón sobre un punto del mapa. Así, mientras exploras el mapa, puedes encontrar fácilmente las coordenadas de cualquier punto de interés (como el ferrocarril)"
      ]
    },
    {
      "cell_type": "code",
      "execution_count": null,
      "metadata": {
        "id": "33nm2hYyQRAK"
      },
      "outputs": [],
      "source": [
        "formatter = \"function(num) {return L.Util.formatNum(num, 5);};\"\n",
        "mouse_position = MousePosition(\n",
        "    position='topright',\n",
        "    separator=' Long: ',\n",
        "    empty_string='NaN',\n",
        "    lng_first=False,\n",
        "    num_digits=20,\n",
        "    prefix='Lat:',\n",
        "    lat_formatter=formatter,\n",
        "    lng_formatter=formatter,\n",
        ")\n",
        "\n",
        "site_map.add_child(mouse_position)\n",
        "site_map"
      ]
    },
    {
      "cell_type": "markdown",
      "metadata": {
        "id": "fs-mG5XbQRAL"
      },
      "source": [
        "Ahora acerque el zoom a un lugar de lanzamiento y explore su proximidad para ver si puede encontrar fácilmente alguna vía férrea, carretera, costa, etc. Mueve el ratón hacia estos puntos y marca sus coordenadas (mostradas en la parte superior derecha) para conocer la distancia al lugar de lanzamiento.\n"
      ]
    },
    {
      "cell_type": "markdown",
      "metadata": {
        "id": "B_QUDbe5QRAL"
      },
      "source": [
        "Puedes calcular la distancia entre dos puntos del mapa a partir de sus valores `Lat` y `Long` utilizando el siguiente método:\n"
      ]
    },
    {
      "cell_type": "code",
      "execution_count": null,
      "metadata": {
        "id": "Dv6XRAQkQRAL"
      },
      "outputs": [],
      "source": [
        "from math import sin, cos, sqrt, atan2, radians\n",
        "\n",
        "def calculate_distance(lat1, lon1, lat2, lon2):\n",
        "    # Radio de la tierra en km\n",
        "    R = 6373.0\n",
        "\n",
        "    lat1 = radians(lat1)\n",
        "    lon1 = radians(lon1)\n",
        "    lat2 = radians(lat2)\n",
        "    lon2 = radians(lon2)\n",
        "\n",
        "    dlon = lon2 - lon1\n",
        "    dlat = lat2 - lat1\n",
        "\n",
        "    a = sin(dlat / 2)**2 + cos(lat1) * cos(lat2) * sin(dlon / 2)**2\n",
        "    c = 2 * atan2(sqrt(a), sqrt(1 - a))\n",
        "\n",
        "    distance = R * c\n",
        "    return distance"
      ]
    },
    {
      "cell_type": "markdown",
      "metadata": {
        "id": "PJnI1C95QRAL"
      },
      "source": [
        "Seleccióna un punto en la línea de costa más cercana utilizando MousePosition para averiguar sus coordenadas. Calcula la distancia entre el punto de la línea de costa y el lugar de lanzamiento.\n"
      ]
    },
    {
      "cell_type": "code",
      "execution_count": null,
      "metadata": {
        "id": "knc-cpAyQRAL"
      },
      "outputs": [],
      "source": [
        "# Calcula la distancia a la coordenada de la costa más cercana\n",
        "# e.g.,: Lat: 28.56367  Lon: -80.57163\n",
        "distance_coastline = calculate_distance(coordinates[0][0], coordinates[0][1], coordinates[1][0], coordinates[1][1])"
      ]
    },
    {
      "cell_type": "markdown",
      "source": [
        "Para mostrar la linea que une los puntos utilizaremos el siguiente código:"
      ],
      "metadata": {
        "id": "K7fPc_J82KLd"
      }
    },
    {
      "cell_type": "code",
      "source": [
        "# Crear un objeto `folium.PolyLine` utilizando las coordenadas de la línea de costa y la coordenada del lugar de lanzamiento\n",
        "lines=folium.PolyLine(locations=coordinates, weight=1)\n",
        "site_map.add_child(lines)"
      ],
      "metadata": {
        "id": "5x5pZoDw2LNo"
      },
      "execution_count": null,
      "outputs": []
    },
    {
      "cell_type": "markdown",
      "metadata": {
        "id": "TwP7_79kQRAM"
      },
      "source": [
        "Después de obtener su coordenada, crea un `folium.Marker` para mostrar la distancia\n"
      ]
    },
    {
      "cell_type": "code",
      "execution_count": null,
      "metadata": {
        "id": "apsCUaZFQRAM"
      },
      "outputs": [],
      "source": [
        "# Crear y añadir un folio.Marcador en el punto de costa más cercano seleccionado en el mapa\n",
        "# Muestra la distancia entre el punto de la línea de costa y el lugar de lanzamiento utilizando la propiedad del icono\n",
        "\n",
        "distance_marker = folium.Marker(\n",
        "   [coordinate],\n",
        "   icon=DivIcon(\n",
        "       icon_size=(20,20),\n",
        "       icon_anchor=(0,0),\n",
        "       html='<div style=\"font-size: 12; color:#d35400;\"><b>%s</b></div>' % \"{:10.2f} KM\".format(distance),\n",
        "       )\n",
        "   )"
      ]
    },
    {
      "cell_type": "code",
      "execution_count": null,
      "metadata": {
        "id": "wnHIRUigQRAM"
      },
      "outputs": [],
      "source": [
        "#Inserta tu código aquí\n",
        "coordinates = [\n",
        "    [28.56342, -80.57674],\n",
        "    [28.56342, -80.56756]]\n",
        "\n",
        "lines=folium.PolyLine(locations=coordinates, weight=1)\n",
        "site_map.add_child(lines)\n",
        "distance = calculate_distance(coordinates[0][0], coordinates[0][1], coordinates[1][0], coordinates[1][1])\n",
        "distance_circle =\n",
        "site_map.add_child(distance_circle)\n",
        "site_map"
      ]
    },
    {
      "cell_type": "markdown",
      "metadata": {
        "id": "WJ_kRvgjQRAN"
      },
      "source": [
        "El mapa actualizado con la línea de distancia debería verse como la siguiente captura de pantalla:\n"
      ]
    },
    {
      "cell_type": "markdown",
      "metadata": {
        "id": "4UqNL3DOQRAO"
      },
      "source": [
        "<center>\n",
        "    <img src=\"https://cf-courses-data.s3.us.cloud-object-storage.appdomain.cloud/IBM-DS0321EN-SkillsNetwork/labs/module_3/images/launch_site_marker_distance.png\" />\n",
        "</center>\n"
      ]
    },
    {
      "cell_type": "markdown",
      "metadata": {
        "id": "XyxjmOQ0QRAO"
      },
      "source": [
        " Del mismo modo, puede dibujar una línea entre un lugar de lanzamiento y su ciudad, ferrocarril, carretera, etc. más cercanos. Para ello, es necesario utilizar `MousePosition` para encontrar sus coordenadas en el mapa\n"
      ]
    },
    {
      "cell_type": "markdown",
      "metadata": {
        "id": "0sQ8CiSDQRAO"
      },
      "source": [
        "El símbolo de una linea ferrofiaría puede tener este aspecto:\n"
      ]
    },
    {
      "cell_type": "markdown",
      "metadata": {
        "id": "rvBnodHHQRAO"
      },
      "source": [
        "<center>\n",
        "    <img src=\"https://cf-courses-data.s3.us.cloud-object-storage.appdomain.cloud/IBM-DS0321EN-SkillsNetwork/labs/module_3/images/railway.png\" />\n",
        "</center>\n"
      ]
    },
    {
      "cell_type": "markdown",
      "metadata": {
        "id": "-kfylDBuQRAO"
      },
      "source": [
        "Un símbolo de carretera puede tener este aspecto:\n"
      ]
    },
    {
      "cell_type": "markdown",
      "metadata": {
        "id": "RH_roP77QRAP"
      },
      "source": [
        "<center>\n",
        "    <img src=\"https://cf-courses-data.s3.us.cloud-object-storage.appdomain.cloud/IBM-DS0321EN-SkillsNetwork/labs/module_3/images/highway.png\" />\n",
        "</center>\n"
      ]
    },
    {
      "cell_type": "markdown",
      "metadata": {
        "id": "Q8vd2ozUQRAP"
      },
      "source": [
        "Una ciudad puede tener este aspecto:\n"
      ]
    },
    {
      "cell_type": "markdown",
      "metadata": {
        "id": "dmE-nxFSQRAP"
      },
      "source": [
        "<center>\n",
        "    <img src=\"https://cf-courses-data.s3.us.cloud-object-storage.appdomain.cloud/IBM-DS0321EN-SkillsNetwork/labs/module_3/images/city.png\" />\n",
        "</center>\n"
      ]
    },
    {
      "cell_type": "markdown",
      "source": [
        "Crea dos mapas que muestren la distancia hasta una interesección en la autopista y otro hasta una ciudad."
      ],
      "metadata": {
        "id": "lcL2AAG_2ycU"
      }
    },
    {
      "cell_type": "code",
      "execution_count": null,
      "metadata": {
        "id": "7e7DKsAZQRAP"
      },
      "outputs": [],
      "source": [
        "#Inserta tu código aquí\n"
      ]
    },
    {
      "cell_type": "code",
      "execution_count": null,
      "metadata": {
        "id": "Uq8nvux7QRAM"
      },
      "outputs": [],
      "source": [
        "\n",
        "#Distancia a una intersección con ferrocarril\n",
        "coordinates = [\n",
        "    [28.56342, -80.57674],\n",
        "    [28.411780, -80.820630]]\n",
        "\n",
        "lines=folium.PolyLine(locations=coordinates, weight=1)\n",
        "site_map.add_child(lines)\n",
        "distance = calculate_distance(coordinates[0][0], coordinates[0][1], coordinates[1][0], coordinates[1][1])\n",
        "distance_circle = folium.Marker(\n",
        "    [28.411780, -80.820630],\n",
        "    icon=DivIcon(\n",
        "        icon_size=(20,20),\n",
        "        icon_anchor=(0,0),\n",
        "        html='<div style=\"font-size: 12; color:#252526;\"><b>%s</b></div>' % \"{:10.2f} KM\".format(distance),\n",
        "        )\n",
        "    )\n",
        "site_map.add_child(distance_circle)\n",
        "site_map"
      ]
    },
    {
      "cell_type": "code",
      "execution_count": null,
      "metadata": {
        "id": "fQkvWkJ-QRAP"
      },
      "outputs": [],
      "source": [
        "#Distancia a la ciudad de Orlando\n",
        "\n",
        "coordinates = [\n",
        "    [28.56342, -80.57674],\n",
        "    [28.5383, -81.3792]]\n",
        "\n",
        "lines=folium.PolyLine(locations=coordinates, weight=1)\n",
        "site_map.add_child(lines)\n",
        "distance = calculate_distance(coordinates[0][0], coordinates[0][1], coordinates[1][0], coordinates[1][1])\n",
        "distance_circle = folium.Marker(\n",
        "    [28.5383, -81.3792],\n",
        "    icon=DivIcon(\n",
        "        icon_size=(20,20),\n",
        "        icon_anchor=(0,0),\n",
        "        html='<div style=\"font-size: 12; color:#252526;\"><b>%s</b></div>' % \"{:10.2f} KM\".format(distance),\n",
        "        )\n",
        "    )\n",
        "site_map.add_child(distance_circle)\n",
        "site_map"
      ]
    },
    {
      "cell_type": "markdown",
      "metadata": {
        "id": "rpvDOifgQRAQ"
      },
      "source": [
        "Después de trazar las líneas de distancia a las proximidades, podrá responder fácilmente a las siguientes preguntas:\n",
        "\n",
        "* ¿Los lugares de lanzamiento están cerca de las vías férreas?\n",
        "* ¿Están las zonas de lanzamiento cerca de las autopistas?\n",
        "* ¿Están las zonas de lanzamiento cerca de la costa?\n",
        "* ¿Los lugares de lanzamiento se mantienen a cierta distancia de las ciudades?\n",
        "\n",
        "Intenta también explicar sus conclusiones.\n"
      ]
    }
  ],
  "metadata": {
    "kernelspec": {
      "display_name": "Python 3.9.8 64-bit ('ibmierda')",
      "language": "python",
      "name": "python3"
    },
    "language_info": {
      "codemirror_mode": {
        "name": "ipython",
        "version": 3
      },
      "file_extension": ".py",
      "mimetype": "text/x-python",
      "name": "python",
      "nbconvert_exporter": "python",
      "pygments_lexer": "ipython3",
      "version": "3.9.8"
    },
    "papermill": {
      "duration": 142.196942,
      "end_time": "2020-09-19T06:29:13.341578",
      "environment_variables": {},
      "exception": null,
      "input_path": "__notebook__.ipynb",
      "output_path": "__notebook__.ipynb",
      "parameters": {},
      "start_time": "2020-09-19T06:26:51.144636",
      "version": "2.1.0"
    },
    "vscode": {
      "interpreter": {
        "hash": "06669450a20e2437c01e88e64dc68c8dfa788e15199dfc60591c3e13974a3c24"
      }
    },
    "colab": {
      "provenance": []
    }
  },
  "nbformat": 4,
  "nbformat_minor": 0
}