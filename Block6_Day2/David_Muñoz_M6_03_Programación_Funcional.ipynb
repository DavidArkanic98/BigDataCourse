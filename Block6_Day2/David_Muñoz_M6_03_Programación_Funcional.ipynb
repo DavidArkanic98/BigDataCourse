{
  "nbformat": 4,
  "nbformat_minor": 0,
  "metadata": {
    "colab": {
      "provenance": [],
      "collapsed_sections": [
        "LNMouIAOsy9q",
        "_MwiYo3MSWqF",
        "bn9eybKUUd1l"
      ]
    },
    "kernelspec": {
      "name": "python3",
      "display_name": "Python 3"
    }
  },
  "cells": [
    {
      "cell_type": "markdown",
      "metadata": {
        "id": "nsEOLErx6WCf"
      },
      "source": [
        "# **Programacion funcional**\n",
        "\n",
        "Vamos a aprender a usar las **funciones lambda, map, filter y reduce**.\n",
        "\n",
        "Veremos los siguientes métodos:\n",
        "\n",
        "    1) Funciones lambda.\n",
        "    2) Metodos de la programacion funcional:      \n",
        "      - map\n",
        "      - filter\n",
        "      - reduce*\n",
        "\n",
        "### **Programacion funcional**\n",
        "\n",
        "Los programas escritos en un **lenguaje funcional** están constituidos unicamente por definiciones de **funciones**, entendiendo estas no como subprogramas clasicos de un lenguaje imperativo, sino como funciones puramente matematicas.\n",
        "\n",
        "<center>\n",
        "<img src=\"https://user-images.githubusercontent.com/16768318/73006022-d523bd00-3e01-11ea-8c1a-8ce4f5529158.png\" width=\"35%\">\n",
        "</center>\n",
        "\n",
        "### **Funciones lambda**\n",
        "\n",
        "Sirve para crear funciones anonimas. Ejemplo:\n"
      ]
    },
    {
      "cell_type": "code",
      "metadata": {
        "id": "TOTBARnt6Lhi"
      },
      "source": [
        "def doble(x):\n",
        "  return x**2"
      ],
      "execution_count": 1,
      "outputs": []
    },
    {
      "cell_type": "code",
      "metadata": {
        "id": "gqz5TzS8_weU",
        "colab": {
          "base_uri": "https://localhost:8080/"
        },
        "outputId": "b3d4810b-0c37-4762-c839-9f6e2112871e"
      },
      "source": [
        "doble(25)"
      ],
      "execution_count": 2,
      "outputs": [
        {
          "output_type": "execute_result",
          "data": {
            "text/plain": [
              "625"
            ]
          },
          "metadata": {},
          "execution_count": 2
        }
      ]
    },
    {
      "cell_type": "code",
      "metadata": {
        "id": "QcVfQr-e_zBO"
      },
      "source": [
        "dobleAnonima = lambda x : x**2"
      ],
      "execution_count": 3,
      "outputs": []
    },
    {
      "cell_type": "code",
      "metadata": {
        "id": "RcsrFRGG_7eN",
        "outputId": "91f63fdd-fd38-4799-b060-bf028c00a895",
        "colab": {
          "base_uri": "https://localhost:8080/"
        }
      },
      "source": [
        "dobleAnonima(25)"
      ],
      "execution_count": 4,
      "outputs": [
        {
          "output_type": "execute_result",
          "data": {
            "text/plain": [
              "625"
            ]
          },
          "metadata": {},
          "execution_count": 4
        }
      ]
    },
    {
      "cell_type": "code",
      "source": [
        "(lambda x: x**2)(25)"
      ],
      "metadata": {
        "id": "Bvto8RY4sYme",
        "colab": {
          "base_uri": "https://localhost:8080/"
        },
        "outputId": "49194e6a-a7f1-476c-fd54-ecf7f4bfbadf"
      },
      "execution_count": 5,
      "outputs": [
        {
          "output_type": "execute_result",
          "data": {
            "text/plain": [
              "625"
            ]
          },
          "metadata": {},
          "execution_count": 5
        }
      ]
    },
    {
      "cell_type": "markdown",
      "source": [
        "### Ejercicio:\n",
        "Escribe una función anónima que de la vuelta a un String, guardala en una variable que se llame reverse_f.\n",
        "\n",
        "\n",
        "> Por ejemplo: Dado el string \"Hola\" debe devolver \"aloH\"\n",
        "\n"
      ],
      "metadata": {
        "id": "LNMouIAOsy9q"
      }
    },
    {
      "cell_type": "code",
      "metadata": {
        "id": "kHuKKQ7e_-rT"
      },
      "source": [
        "#Inserta Aquí tu código\n",
        "reverse_f = lambda s: s[::-1]"
      ],
      "execution_count": 9,
      "outputs": []
    },
    {
      "cell_type": "code",
      "metadata": {
        "id": "Xpb-b3xQLCOt",
        "outputId": "32894fa4-cb79-4c36-d7f3-c277c5786530",
        "colab": {
          "base_uri": "https://localhost:8080/",
          "height": 35
        }
      },
      "source": [
        "reverse_f('hola')"
      ],
      "execution_count": 10,
      "outputs": [
        {
          "output_type": "execute_result",
          "data": {
            "text/plain": [
              "'aloh'"
            ],
            "application/vnd.google.colaboratory.intrinsic+json": {
              "type": "string"
            }
          },
          "metadata": {},
          "execution_count": 10
        }
      ]
    },
    {
      "cell_type": "markdown",
      "source": [
        "### Ejercicio:\n",
        "Escribe una función anónima que devuelva la multiplicación de dos números, guardala en una variable que se llame mult_f.\n",
        "\n",
        "Por ejemplo: Dado los numeros 10 y 2 debe devolver 20"
      ],
      "metadata": {
        "id": "_MwiYo3MSWqF"
      }
    },
    {
      "cell_type": "code",
      "source": [
        "#Inserta Aquí tu código\n",
        "mult_f = lambda x, y: x * y"
      ],
      "metadata": {
        "id": "acuSthjlSVpG"
      },
      "execution_count": 13,
      "outputs": []
    },
    {
      "cell_type": "code",
      "source": [
        "numero1 = 10\n",
        "numero2 = 2\n",
        "resultado = mult_f(numero1, numero2)\n",
        "print(resultado)"
      ],
      "metadata": {
        "colab": {
          "base_uri": "https://localhost:8080/"
        },
        "id": "1tDD_0TIrtu0",
        "outputId": "45d02cc4-1f68-4a65-82c4-6e9adde89891"
      },
      "execution_count": 14,
      "outputs": [
        {
          "output_type": "stream",
          "name": "stdout",
          "text": [
            "20\n"
          ]
        }
      ]
    },
    {
      "cell_type": "markdown",
      "metadata": {
        "id": "mZcdf3C-LGpm"
      },
      "source": [
        "### **Map**\n",
        "\n",
        "Aplica una condicion (definida por una funcion) sobretodos los elementos de una estructura de datos.\n",
        "<img src=\"https://leblancfg.com/img/map_function.png\" width=\"50%\">\n",
        "\n"
      ]
    },
    {
      "cell_type": "code",
      "source": [
        "lista = [1,2,3,4,5,6,7,8]"
      ],
      "metadata": {
        "id": "gNFK3yCNlcSw"
      },
      "execution_count": 15,
      "outputs": []
    },
    {
      "cell_type": "code",
      "source": [
        "# PROGRAMACIÓN IMPERATIVA\n",
        "new_lista = []\n",
        "for numero in lista:\n",
        "  new_lista.append(numero * 2)\n",
        "print(new_lista)"
      ],
      "metadata": {
        "colab": {
          "base_uri": "https://localhost:8080/"
        },
        "id": "eGLnLgh4lhvZ",
        "outputId": "1e0b3b86-6436-4444-aec5-deeb8fe259f2"
      },
      "execution_count": 16,
      "outputs": [
        {
          "output_type": "stream",
          "name": "stdout",
          "text": [
            "[2, 4, 6, 8, 10, 12, 14, 16]\n"
          ]
        }
      ]
    },
    {
      "cell_type": "code",
      "source": [
        "def multiplicarx2(numero):\n",
        "  return numero * 2"
      ],
      "metadata": {
        "id": "XT66YXYNmZ_W"
      },
      "execution_count": 17,
      "outputs": []
    },
    {
      "cell_type": "code",
      "source": [
        "# PROGRAMACIÓN FUNCIONAL\n",
        "list(map(multiplicarx2,lista))"
      ],
      "metadata": {
        "colab": {
          "base_uri": "https://localhost:8080/"
        },
        "id": "KnacosFTmFEA",
        "outputId": "38115f51-6def-434f-ae33-af8d101bfe2c"
      },
      "execution_count": 18,
      "outputs": [
        {
          "output_type": "execute_result",
          "data": {
            "text/plain": [
              "[2, 4, 6, 8, 10, 12, 14, 16]"
            ]
          },
          "metadata": {},
          "execution_count": 18
        }
      ]
    },
    {
      "cell_type": "code",
      "source": [
        "# PROGRAMACIÓN FUNCIONAL AVANZADA: LAMBDA\n",
        "list(map(lambda numero : numero * 2 ,lista))"
      ],
      "metadata": {
        "colab": {
          "base_uri": "https://localhost:8080/"
        },
        "id": "-GDvH9Gjmybs",
        "outputId": "3c8dec26-0504-4e37-99fa-d269a0c4c768"
      },
      "execution_count": 19,
      "outputs": [
        {
          "output_type": "execute_result",
          "data": {
            "text/plain": [
              "[2, 4, 6, 8, 10, 12, 14, 16]"
            ]
          },
          "metadata": {},
          "execution_count": 19
        }
      ]
    },
    {
      "cell_type": "markdown",
      "metadata": {
        "id": "1bl4nKrkORx-"
      },
      "source": [
        "#### **Ejemplo 1**\n",
        "\n",
        "Convertir los valores de temperatura media de Celsius a Kelvin"
      ]
    },
    {
      "cell_type": "code",
      "metadata": {
        "id": "MJz1s2l_OC00"
      },
      "source": [
        "temp_C = [28, 32, 15, 26, 24, 30]"
      ],
      "execution_count": 20,
      "outputs": []
    },
    {
      "cell_type": "code",
      "metadata": {
        "id": "CcJQUBdORJZF",
        "outputId": "a9e53688-388c-482e-ef5d-a10eb2ff94da",
        "colab": {
          "base_uri": "https://localhost:8080/"
        }
      },
      "source": [
        "# Programación imperativa\n",
        "temp_K = []\n",
        "for temp in temp_C:\n",
        "  new_temp = temp + 273.15\n",
        "  temp_K.append(new_temp)\n",
        "print(temp_K)"
      ],
      "execution_count": 21,
      "outputs": [
        {
          "output_type": "stream",
          "name": "stdout",
          "text": [
            "[301.15, 305.15, 288.15, 299.15, 297.15, 303.15]\n"
          ]
        }
      ]
    },
    {
      "cell_type": "code",
      "source": [
        "# Programación funcional\n",
        "def celsiusAKelvin(temperatura):\n",
        "  return temperatura + 273.15\n",
        "\n",
        "temp_K = list(map(celsiusAKelvin, temp_C))\n",
        "print(temp_K)"
      ],
      "metadata": {
        "id": "Sia0b4lmvqQG",
        "colab": {
          "base_uri": "https://localhost:8080/"
        },
        "outputId": "5bf9dba8-9178-4e16-c6f6-ba0c32355047"
      },
      "execution_count": 22,
      "outputs": [
        {
          "output_type": "stream",
          "name": "stdout",
          "text": [
            "[301.15, 305.15, 288.15, 299.15, 297.15, 303.15]\n"
          ]
        }
      ]
    },
    {
      "cell_type": "code",
      "source": [
        "# Programación funcional avanzada usando funciones anónimas\n",
        "temp_K = list(map(lambda x : x+273.15, temp_C))\n",
        "print(temp_K)"
      ],
      "metadata": {
        "id": "DEvfO1AVvzvJ",
        "colab": {
          "base_uri": "https://localhost:8080/"
        },
        "outputId": "15a9f0b5-a162-4559-a11a-dffd279283f9"
      },
      "execution_count": 23,
      "outputs": [
        {
          "output_type": "stream",
          "name": "stdout",
          "text": [
            "[301.15, 305.15, 288.15, 299.15, 297.15, 303.15]\n"
          ]
        }
      ]
    },
    {
      "cell_type": "markdown",
      "metadata": {
        "id": "xRrjjwTrO4vc"
      },
      "source": [
        "#### **Ejercicio 2**\n",
        "Convertir estos nombres a mayúsculas"
      ]
    },
    {
      "cell_type": "code",
      "metadata": {
        "id": "cgIL58gOQo2M"
      },
      "source": [
        "mascotas_nombre_min = ['alfred', 'tabitha', 'william', 'arla']"
      ],
      "execution_count": 24,
      "outputs": []
    },
    {
      "cell_type": "markdown",
      "source": [
        "Primero resuelve tu problema usando un bucle `for`\n",
        "\n",
        "\n",
        "*   INPUT/ENTRADA: Tienes que convertir en mayúscula todos los elementos de la lista `mascotas_nombre_min`\n",
        "*   OUTPUT/SALIDA: Los nombres en mayúsculas deberán estar en la lista `mascotas_nombre_may`\n",
        "* PISTA: Puedes añadir elemenetos a una lista con `append()`\n",
        "\n"
      ],
      "metadata": {
        "id": "PNhA9FrTuR26"
      }
    },
    {
      "cell_type": "code",
      "metadata": {
        "id": "mAVbl7f2N_Si",
        "outputId": "627c5e1f-1b44-4a24-eaa2-e7933658d476",
        "colab": {
          "base_uri": "https://localhost:8080/"
        }
      },
      "source": [
        "# Programación imperativa\n",
        "#Inserta Aquí tu código\n",
        "mascotas_nombre_min = ['coco', 'lola', 'max', 'luna']\n",
        "mascotas_nombre_may = []\n",
        "for nombre in mascotas_nombre_min:\n",
        "    nombre_en_mayusculas = nombre.upper()\n",
        "    mascotas_nombre_may.append(nombre_en_mayusculas)\n",
        "print(mascotas_nombre_may)"
      ],
      "execution_count": 28,
      "outputs": [
        {
          "output_type": "stream",
          "name": "stdout",
          "text": [
            "['COCO', 'LOLA', 'MAX', 'LUNA']\n"
          ]
        }
      ]
    },
    {
      "cell_type": "markdown",
      "source": [
        "Ahora haz lo mismo pero sin un bucle for, ahora usando map()"
      ],
      "metadata": {
        "id": "dLiYY70roeA4"
      }
    },
    {
      "cell_type": "code",
      "metadata": {
        "id": "DYdUckemOWuW",
        "outputId": "e1aaba1f-9500-4280-9430-821e35a72d7e",
        "colab": {
          "base_uri": "https://localhost:8080/"
        }
      },
      "source": [
        "# Programación funcional\n",
        "#Inserta Aquí tu código\n",
        "mascotas_nombre_min = ['coco', 'lola', 'max', 'luna']\n",
        "mascotas_nombre_may = list(map(str.upper, mascotas_nombre_min))\n",
        "print(mascotas_nombre_may)"
      ],
      "execution_count": 56,
      "outputs": [
        {
          "output_type": "stream",
          "name": "stdout",
          "text": [
            "['COCO', 'LOLA', 'MAX', 'LUNA']\n"
          ]
        }
      ]
    },
    {
      "cell_type": "markdown",
      "metadata": {
        "id": "bn9eybKUUd1l"
      },
      "source": [
        "### **Filter**\n",
        "\n",
        "Mientras que **map()** pasa cada elemento del iterable a traves de una funcion y devuelve el resultado de todos los elementos que han pasado a traves de la funcion, **filter()**, en primer lugar, requiere que **la funcion devuelva valores booleanos (verdadero o falso)** y luego pasa cada elemento del iterable a traves de la funcion, **\"filtrando\" los que son falsos**.\n",
        "\n",
        "<img src=\"https://leblancfg.com/img/filter.png\" width=\"50%\">"
      ]
    },
    {
      "cell_type": "code",
      "source": [
        "numeros = [28, 32, 15, 26, 24, 30]\n",
        "\n",
        "filter"
      ],
      "metadata": {
        "id": "wRmd182uolTl",
        "colab": {
          "base_uri": "https://localhost:8080/"
        },
        "outputId": "5b72bce5-87c6-4bc6-caa6-702796f5f957"
      },
      "execution_count": 29,
      "outputs": [
        {
          "output_type": "execute_result",
          "data": {
            "text/plain": [
              "filter"
            ]
          },
          "metadata": {},
          "execution_count": 29
        }
      ]
    },
    {
      "cell_type": "code",
      "metadata": {
        "id": "dDCGYR6yVnYK"
      },
      "source": [
        "# Filter\n",
        "numeros = [28, 32, 15, 26, 24, 30]"
      ],
      "execution_count": 30,
      "outputs": []
    },
    {
      "cell_type": "code",
      "source": [
        "# Programación imperativa\n",
        "num_may_30 = []\n",
        "for num in numeros:\n",
        "  if num >= 30:\n",
        "    num_may_30.append(num)\n",
        "\n",
        "print(num_may_30)"
      ],
      "metadata": {
        "id": "leajA5w3wfyK",
        "colab": {
          "base_uri": "https://localhost:8080/"
        },
        "outputId": "69271aeb-559d-4aac-9a39-ae19f2f4a8f0"
      },
      "execution_count": 31,
      "outputs": [
        {
          "output_type": "stream",
          "name": "stdout",
          "text": [
            "[32, 30]\n"
          ]
        }
      ]
    },
    {
      "cell_type": "code",
      "source": [
        "# Programación funcional\n",
        "def numMayoresA30(numero):\n",
        "  if numero >= 30:\n",
        "    return True\n",
        "  else:\n",
        "    return False\n",
        "\n",
        "\n",
        "num_may_30 = list(filter(numMayoresA30, numeros))\n",
        "print(num_may_30)"
      ],
      "metadata": {
        "id": "qyBefSJDwtKc",
        "colab": {
          "base_uri": "https://localhost:8080/"
        },
        "outputId": "46797d81-6ea6-4fb6-c21a-929233accba1"
      },
      "execution_count": 32,
      "outputs": [
        {
          "output_type": "stream",
          "name": "stdout",
          "text": [
            "[32, 30]\n"
          ]
        }
      ]
    },
    {
      "cell_type": "code",
      "metadata": {
        "id": "78a6jsnOZ13Y",
        "outputId": "7da42e93-49e2-48ea-8f92-32b8b8b85c14",
        "colab": {
          "base_uri": "https://localhost:8080/"
        }
      },
      "source": [
        "# Programación funcional avanzada usando funciones anónimas\n",
        "num_may_30 = list(filter(lambda temp:temp >= 30, numeros))\n",
        "print(num_may_30)"
      ],
      "execution_count": 33,
      "outputs": [
        {
          "output_type": "stream",
          "name": "stdout",
          "text": [
            "[32, 30]\n"
          ]
        }
      ]
    },
    {
      "cell_type": "markdown",
      "metadata": {
        "id": "NcyxonXwoqF8"
      },
      "source": [
        "#### **Ejercicio 3**\n",
        "Escribir una función que reciba una frase (string) y devuelva una lista con las longitudes de cada palabra."
      ]
    },
    {
      "cell_type": "code",
      "metadata": {
        "id": "cwtf7KhNoqF9"
      },
      "source": [
        "frase = 'Welcome to Python'"
      ],
      "execution_count": 34,
      "outputs": []
    },
    {
      "cell_type": "code",
      "source": [
        "#Inserta Aquí tu código\n",
        "def lenghth_words(frase):\n",
        "    palabras = frase.split()\n",
        "    longitudes = [len(palabra) for palabra in palabras]\n",
        "    return longitudes"
      ],
      "metadata": {
        "id": "UXy_CRHGpJbo"
      },
      "execution_count": 70,
      "outputs": []
    },
    {
      "cell_type": "code",
      "source": [
        "frase = 'Welcome to Python'\n",
        "resultados = lenghth_words(frase)\n",
        "print(resultados)"
      ],
      "metadata": {
        "colab": {
          "base_uri": "https://localhost:8080/"
        },
        "id": "0PBVIgj2GjkG",
        "outputId": "122cd12d-0823-4eb4-861f-1bfa7602c31c"
      },
      "execution_count": 74,
      "outputs": [
        {
          "output_type": "stream",
          "name": "stdout",
          "text": [
            "[7, 2, 6]\n"
          ]
        }
      ]
    },
    {
      "cell_type": "markdown",
      "source": [
        "Comprueba tu respuesta, debe dar: [7, 2, 6]"
      ],
      "metadata": {
        "id": "jrUHW6BRo9_6"
      }
    },
    {
      "cell_type": "markdown",
      "metadata": {
        "id": "Xmq57J_2p7oD"
      },
      "source": [
        "#### **Ejercicio 4**\n",
        "Escribir una función que reciba una lista de números pares e impares y devuelve como resultado una lista solo con los números pares usando filter. Usa también la función dada check_even()."
      ]
    },
    {
      "cell_type": "code",
      "execution_count": 76,
      "metadata": {
        "collapsed": true,
        "id": "MWRq86JTJmSS"
      },
      "outputs": [],
      "source": [
        "def check_even(num):\n",
        "    return num % 2 != 0"
      ]
    },
    {
      "cell_type": "code",
      "execution_count": 77,
      "metadata": {
        "collapsed": true,
        "id": "ZhtI3T3VJmSS"
      },
      "outputs": [],
      "source": [
        "nums = [0,1,2,3,4,5,6,7,8,9,10]"
      ]
    },
    {
      "cell_type": "code",
      "execution_count": 78,
      "metadata": {
        "id": "UmOddg-eJmST",
        "outputId": "131ad722-388e-4f96-f1bf-21e276faca3b",
        "colab": {
          "base_uri": "https://localhost:8080/"
        }
      },
      "outputs": [
        {
          "output_type": "execute_result",
          "data": {
            "text/plain": [
              "[1, 3, 5, 7, 9]"
            ]
          },
          "metadata": {},
          "execution_count": 78
        }
      ],
      "source": [
        "#Inserta Aquí tu código\n",
        "list(filter( check_even , nums))"
      ]
    },
    {
      "cell_type": "markdown",
      "metadata": {
        "id": "SaOmNLnERNp5"
      },
      "source": [
        "#### **Ejercicio 5**\n",
        "Imprimir de uno en uno todos los elementos de la siguiente lista utilizando programación funcional con `map`."
      ]
    },
    {
      "cell_type": "code",
      "execution_count": 64,
      "metadata": {
        "collapsed": true,
        "id": "sx2Q2IQrRNp6"
      },
      "outputs": [],
      "source": [
        "datos = [\"Hola\",1,True,\"José Luis\",545645,\"*\"]"
      ]
    },
    {
      "cell_type": "code",
      "source": [
        "#Inserta Aquí tu código\n",
        "for elemento in datos:\n",
        "  print(elemento)"
      ],
      "metadata": {
        "id": "BIbDr7RRRgOg",
        "colab": {
          "base_uri": "https://localhost:8080/"
        },
        "outputId": "cb045d6d-b865-4046-e95e-387913f3526d"
      },
      "execution_count": 81,
      "outputs": [
        {
          "output_type": "stream",
          "name": "stdout",
          "text": [
            "Hola\n",
            "1\n",
            "True\n",
            "José Luis\n",
            "545645\n",
            "*\n"
          ]
        }
      ]
    },
    {
      "cell_type": "code",
      "source": [
        "list(map(print , datos))"
      ],
      "metadata": {
        "colab": {
          "base_uri": "https://localhost:8080/"
        },
        "id": "hKDF1B2FHRQu",
        "outputId": "adecc2ba-a087-48df-a974-2dd838a4e706"
      },
      "execution_count": 84,
      "outputs": [
        {
          "output_type": "stream",
          "name": "stdout",
          "text": [
            "Hola\n",
            "1\n",
            "True\n",
            "José Luis\n",
            "545645\n",
            "*\n"
          ]
        },
        {
          "output_type": "execute_result",
          "data": {
            "text/plain": [
              "[None, None, None, None, None, None]"
            ]
          },
          "metadata": {},
          "execution_count": 84
        }
      ]
    }
  ]
}